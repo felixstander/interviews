{
 "cells": [
  {
   "cell_type": "markdown",
   "id": "1f2be565-1c20-42df-af37-7a8ca9c5a79b",
   "metadata": {},
   "source": [
    "### 分治算法"
   ]
  },
  {
   "cell_type": "code",
   "execution_count": 2,
   "id": "a3816e61-9348-48b9-9d72-de7f0a9800e0",
   "metadata": {},
   "outputs": [],
   "source": [
    "from typing import List"
   ]
  },
  {
   "cell_type": "code",
   "execution_count": 3,
   "id": "4e3fd82f-3dec-46d5-926b-55c5935af4f1",
   "metadata": {},
   "outputs": [],
   "source": [
    "class Solution:\n",
    "    # 合并\n",
    "    def merge(self, left_arr, right_arr):           \n",
    "        arr = []\n",
    "        while left_arr and right_arr:               # 将两个排序数组中较小元素依次插入到结果数组中\n",
    "            if left_arr[0] <= right_arr[0]:\n",
    "                arr.append(left_arr.pop(0))\n",
    "            else:\n",
    "                arr.append(right_arr.pop(0))\n",
    "                \n",
    "        while left_arr:                             # 如果左子序列有剩余元素，则将其插入到结果数组中\n",
    "            arr.append(left_arr.pop(0))\n",
    "        while right_arr:                            # 如果右子序列有剩余元素，则将其插入到结果数组中\n",
    "            arr.append(right_arr.pop(0))\n",
    "        return arr                                  # 返回排好序的结果数组\n",
    "    # 分解\n",
    "    def mergeSort(self, arr):                       \n",
    "        if len(arr) <= 1:                           # 数组元素个数小于等于 1 时，直接返回原数组\n",
    "            return arr\n",
    "        \n",
    "        mid = len(arr) // 2                         # 将数组从中间位置分为左右两个数组。\n",
    "        left_arr = self.mergeSort(arr[0: mid])      # 递归将左子序列进行分解和排序\n",
    "        right_arr =  self.mergeSort(arr[mid:])      # 递归将右子序列进行分解和排序\n",
    "        return self.merge(left_arr, right_arr)      # 把当前序列组中有序子序列逐层向上，进行两两合并。\n",
    "\n",
    "    def sortArray(self, nums: List[int]) -> List[int]:\n",
    "        return self.mergeSort(nums)\n"
   ]
  },
  {
   "cell_type": "code",
   "execution_count": 7,
   "id": "d5f434b8-e74e-4901-959a-e6087f416fc3",
   "metadata": {},
   "outputs": [],
   "source": [
    "nums = [5,2,3,1]"
   ]
  },
  {
   "cell_type": "code",
   "execution_count": 8,
   "id": "138571d4-6ba1-4979-aaeb-1258b584595f",
   "metadata": {},
   "outputs": [],
   "source": [
    "solver = Solution()"
   ]
  },
  {
   "cell_type": "code",
   "execution_count": 9,
   "id": "9c7ce06d-f975-4aca-9659-76a8d2bcee2f",
   "metadata": {},
   "outputs": [],
   "source": [
    "ans = solver.sortArray(nums)"
   ]
  },
  {
   "cell_type": "code",
   "execution_count": 10,
   "id": "bae48eea-9486-4938-9f66-b0d4938132c0",
   "metadata": {},
   "outputs": [
    {
     "data": {
      "text/plain": [
       "[1, 2, 3, 5]"
      ]
     },
     "execution_count": 10,
     "metadata": {},
     "output_type": "execute_result"
    }
   ],
   "source": [
    "ans"
   ]
  },
  {
   "cell_type": "markdown",
   "id": "1e4cc37f-7510-4db7-9eef-5a4813605c09",
   "metadata": {},
   "source": [
    "### 二分查找"
   ]
  },
  {
   "cell_type": "code",
   "execution_count": null,
   "id": "6fec1dee-5906-42df-99f4-35bbe7320422",
   "metadata": {},
   "outputs": [],
   "source": [
    "class Solution:\n",
    "    def search(self, nums: List[int], target: int) -> int:\n",
    "        left = 0\n",
    "        right = len(nums) - 1\n",
    "        # 在区间 [left, right] 内查找 target\n",
    "        while left < right:\n",
    "            # 取区间中间节点\n",
    "            mid = left + (right - left) // 2\n",
    "            # nums[mid] 小于目标值，排除掉不可能区间 [left, mid]，在 [mid + 1, right] 中继续搜索\n",
    "            if nums[mid] < target:\n",
    "                left = mid + 1 \n",
    "            # nums[mid] 大于等于目标值，目标元素可能在 [left, mid] 中，在 [left, mid] 中继续搜索\n",
    "            else:\n",
    "                right = mid\n",
    "        # 判断区间剩余元素是否为目标元素，不是则返回 -1\n",
    "        return left if nums[left] == target else -1\n"
   ]
  },
  {
   "cell_type": "code",
   "execution_count": null,
   "id": "b85fe49d-9476-41a5-9ae4-cb0ab3a9f71d",
   "metadata": {},
   "outputs": [],
   "source": [
    "class Solution:\n",
    "    def search(self,nums:List[int],target:int)->int:\n",
    "        left = 0\n",
    "        right = len(nums)-1\n",
    "        while left<right:\n",
    "            mid = left + (right-left)//2\n",
    "            if nums[mid]<target:\n",
    "                left = mid+1\n",
    "            else:\n",
    "                right = mid\n",
    "        return left if nums[left] == target else -1"
   ]
  },
  {
   "cell_type": "markdown",
   "id": "71296112-d455-47bb-bc0c-71ae3ecfebc0",
   "metadata": {},
   "source": [
    "### 回溯算法"
   ]
  },
  {
   "cell_type": "code",
   "execution_count": null,
   "id": "38b1d5da-c8d0-4347-9fe6-0a675fe72f33",
   "metadata": {},
   "outputs": [],
   "source": [
    "class Solution:\n",
    "    def permute(self, nums: List[int]) -> List[List[int]]:\n",
    "        res = []    # 存放所有符合条件结果的集合\n",
    "        path = []   # 存放当前符合条件的结果\n",
    "        def backtracking(nums):             # nums 为选择元素列表\n",
    "            if len(path) == len(nums):      # 说明找到了一组符合条件的结果\n",
    "                res.append(path[:])         # 将当前符合条件的结果放入集合中\n",
    "                return\n",
    "\n",
    "            for i in range(len(nums)):      # 枚举可选元素列表\n",
    "                if nums[i] not in path:     # 从当前路径中没有出现的数字中选择\n",
    "                    path.append(nums[i])    # 选择元素\n",
    "                    backtracking(nums)      # 递归搜索\n",
    "                    path.pop()              # 撤销选择\n",
    "\n",
    "        backtracking(nums)\n",
    "        return res"
   ]
  },
  {
   "cell_type": "markdown",
   "id": "12297145-2991-417a-a7c1-27feb819f93d",
   "metadata": {},
   "source": [
    "### 不重复子集问题"
   ]
  },
  {
   "cell_type": "code",
   "execution_count": 18,
   "id": "5b5500b3-ee47-44a2-bb92-31eac51b4bde",
   "metadata": {},
   "outputs": [],
   "source": [
    "class Solution:\n",
    "    def subsets(self, nums: List[int]) -> List[List[int]]:\n",
    "        res = []  # 存放所有符合条件结果的集合\n",
    "        path = []  # 存放当前符合条件的结果\n",
    "        def backtracking(nums, index):          # 正在考虑可选元素列表中第 index 个元素\n",
    "            print(path)\n",
    "            res.append(path[:])                 # 将当前符合条件的结果放入集合中\n",
    "            if index >= len(nums):              # 遇到终止条件（本题）\n",
    "                return\n",
    "\n",
    "            for i in range(index, len(nums)):   # 枚举可选元素列表\n",
    "                path.append(nums[i])            # 选择元素\n",
    "                backtracking(nums, i + 1)       # 递归搜索\n",
    "                path.pop()                      # 撤销选择\n",
    "\n",
    "        backtracking(nums, 0)\n",
    "        return res"
   ]
  },
  {
   "cell_type": "code",
   "execution_count": 19,
   "id": "b72a1191-9c0f-45ca-8c0d-bca5ebc2a0ed",
   "metadata": {},
   "outputs": [],
   "source": [
    "solver = Solution()"
   ]
  },
  {
   "cell_type": "code",
   "execution_count": 20,
   "id": "5bdfe0bf-59dc-48a7-892a-848d0f59c95d",
   "metadata": {},
   "outputs": [],
   "source": [
    "nums = [1,2,3]"
   ]
  },
  {
   "cell_type": "code",
   "execution_count": 21,
   "id": "447a8067-b1a0-4e11-bd57-7c3c864880e7",
   "metadata": {},
   "outputs": [
    {
     "name": "stdout",
     "output_type": "stream",
     "text": [
      "[]\n",
      "[1]\n",
      "[1, 2]\n",
      "[1, 2, 3]\n",
      "[1, 3]\n",
      "[2]\n",
      "[2, 3]\n",
      "[3]\n"
     ]
    }
   ],
   "source": [
    "ans = solver.subsets(nums)"
   ]
  },
  {
   "cell_type": "code",
   "execution_count": 22,
   "id": "2e5f229c-6627-4cba-bf10-cbbca91327d4",
   "metadata": {},
   "outputs": [
    {
     "data": {
      "text/plain": [
       "[[], [1], [1, 2], [1, 2, 3], [1, 3], [2], [2, 3], [3]]"
      ]
     },
     "execution_count": 22,
     "metadata": {},
     "output_type": "execute_result"
    }
   ],
   "source": [
    "ans"
   ]
  },
  {
   "cell_type": "markdown",
   "id": "d8670642-b6de-445f-acf4-d39dff7ebebe",
   "metadata": {},
   "source": [
    "### 贪心算法"
   ]
  },
  {
   "cell_type": "code",
   "execution_count": 26,
   "id": "50b4573d-92a7-431f-a4c1-9322c5b84e4d",
   "metadata": {},
   "outputs": [],
   "source": [
    "intervals = [[1,2],[2,3],[3,4],[1,3]]"
   ]
  },
  {
   "cell_type": "code",
   "execution_count": 27,
   "id": "623a8fb7-3b36-48dd-ab3a-c892b8439edb",
   "metadata": {},
   "outputs": [],
   "source": [
    "intervals.sort(key=lambda x: x[1])"
   ]
  },
  {
   "cell_type": "code",
   "execution_count": 28,
   "id": "384ba038-1230-4988-bf83-730975f85bac",
   "metadata": {},
   "outputs": [
    {
     "data": {
      "text/plain": [
       "[[1, 2], [2, 3], [1, 3], [3, 4]]"
      ]
     },
     "execution_count": 28,
     "metadata": {},
     "output_type": "execute_result"
    }
   ],
   "source": [
    "intervals"
   ]
  },
  {
   "cell_type": "code",
   "execution_count": 29,
   "id": "65d6dcb0-51de-4d71-bd5a-2548a8d9a786",
   "metadata": {},
   "outputs": [],
   "source": [
    "n,m = 3,7"
   ]
  },
  {
   "cell_type": "code",
   "execution_count": 30,
   "id": "1edac896-23e3-4915-a902-1bbd38a56d03",
   "metadata": {},
   "outputs": [],
   "source": [
    "dp = [[0 for _ in range(n)] for _ in range(m)]"
   ]
  },
  {
   "cell_type": "code",
   "execution_count": 31,
   "id": "dbddc73a-2211-4b1a-8625-0a7df5307323",
   "metadata": {},
   "outputs": [
    {
     "data": {
      "text/plain": [
       "[[0, 0, 0], [0, 0, 0], [0, 0, 0], [0, 0, 0], [0, 0, 0], [0, 0, 0], [0, 0, 0]]"
      ]
     },
     "execution_count": 31,
     "metadata": {},
     "output_type": "execute_result"
    }
   ],
   "source": [
    "dp"
   ]
  },
  {
   "cell_type": "code",
   "execution_count": 32,
   "id": "fa6f2d55-44a0-449b-8d09-bf8c4ca25041",
   "metadata": {},
   "outputs": [],
   "source": [
    "for j in range(n):\n",
    "            dp[0][j] = 1"
   ]
  },
  {
   "cell_type": "code",
   "execution_count": 33,
   "id": "cacd1c23-5f08-41c7-9b31-9b713f02ca29",
   "metadata": {},
   "outputs": [
    {
     "data": {
      "text/plain": [
       "[[1, 1, 1], [0, 0, 0], [0, 0, 0], [0, 0, 0], [0, 0, 0], [0, 0, 0], [0, 0, 0]]"
      ]
     },
     "execution_count": 33,
     "metadata": {},
     "output_type": "execute_result"
    }
   ],
   "source": [
    "dp"
   ]
  },
  {
   "cell_type": "code",
   "execution_count": 34,
   "id": "450b2b53-b907-413e-92c3-9aa8cf65884e",
   "metadata": {},
   "outputs": [],
   "source": [
    "for i in range(m):\n",
    "            dp[i][0] = 1"
   ]
  },
  {
   "cell_type": "code",
   "execution_count": 35,
   "id": "43095452-57e7-4c79-b151-883ff814e3d0",
   "metadata": {},
   "outputs": [
    {
     "data": {
      "text/plain": [
       "[[1, 1, 1], [1, 0, 0], [1, 0, 0], [1, 0, 0], [1, 0, 0], [1, 0, 0], [1, 0, 0]]"
      ]
     },
     "execution_count": 35,
     "metadata": {},
     "output_type": "execute_result"
    }
   ],
   "source": [
    "dp"
   ]
  },
  {
   "cell_type": "code",
   "execution_count": null,
   "id": "a3a712cb-b2b8-486a-acad-bac255f48bce",
   "metadata": {},
   "outputs": [],
   "source": [
    "class Solution:\n",
    "    def uniquePaths(self, m: int, n: int) -> int:\n",
    "        dp = [[0 for _ in range(n)] for _ in range(m)]\n",
    "        \n",
    "        for j in range(n):\n",
    "            dp[0][j] = 1\n",
    "        for i in range(m):\n",
    "            dp[i][0] = 1\n",
    "\n",
    "        for i in range(1, m):\n",
    "            for j in range(1, n):\n",
    "                dp[i][j] = dp[i - 1][j] + dp[i][j - 1]\n",
    "        \n",
    "        return dp[m - 1][n - 1]\n"
   ]
  },
  {
   "cell_type": "code",
   "execution_count": 47,
   "id": "0b2ed1cb-68e3-4a6d-a98f-b4a4aaa3b6e5",
   "metadata": {},
   "outputs": [],
   "source": [
    "class Solution:\n",
    "    def findTargetSumWays(self, nums: List[int], target: int) -> int:\n",
    "        size = len(nums)\n",
    "        table = dict()\n",
    "\n",
    "        def dfs(i, cur_sum):\n",
    "            if i == size:\n",
    "                if cur_sum == target:\n",
    "                    return 1\n",
    "                else:\n",
    "                    return 0\n",
    "                    \n",
    "            if (i, cur_sum) in table:\n",
    "                return table[(i, cur_sum)]\n",
    "            \n",
    "            cnt = dfs(i + 1, cur_sum - nums[i]) + dfs(i + 1, cur_sum + nums[i])\n",
    "            table[(i, cur_sum)] = cnt\n",
    "            print(table)\n",
    "            return cnt\n",
    "       \n",
    "        return dfs(0, 0)\n"
   ]
  },
  {
   "cell_type": "code",
   "execution_count": 48,
   "id": "b1ff56bf-f7b8-4e5a-85d5-e359bf1d3d73",
   "metadata": {},
   "outputs": [],
   "source": [
    "solver = Solution()"
   ]
  },
  {
   "cell_type": "code",
   "execution_count": 49,
   "id": "b4ae5184-71a3-4b9d-ba99-b7e669dc277c",
   "metadata": {},
   "outputs": [],
   "source": [
    "nums = [1,1,1,1,1]\n",
    "target = 3"
   ]
  },
  {
   "cell_type": "code",
   "execution_count": 50,
   "id": "410f4750-2f6c-4090-b951-c3bfb6bb0628",
   "metadata": {},
   "outputs": [
    {
     "name": "stdout",
     "output_type": "stream",
     "text": [
      "{(4, -4): 0}\n",
      "{(4, -4): 0, (4, -2): 0}\n",
      "{(4, -4): 0, (4, -2): 0, (3, -3): 0}\n",
      "{(4, -4): 0, (4, -2): 0, (3, -3): 0, (4, 0): 0}\n",
      "{(4, -4): 0, (4, -2): 0, (3, -3): 0, (4, 0): 0, (3, -1): 0}\n",
      "{(4, -4): 0, (4, -2): 0, (3, -3): 0, (4, 0): 0, (3, -1): 0, (2, -2): 0}\n",
      "{(4, -4): 0, (4, -2): 0, (3, -3): 0, (4, 0): 0, (3, -1): 0, (2, -2): 0, (4, 2): 1}\n",
      "{(4, -4): 0, (4, -2): 0, (3, -3): 0, (4, 0): 0, (3, -1): 0, (2, -2): 0, (4, 2): 1, (3, 1): 1}\n",
      "{(4, -4): 0, (4, -2): 0, (3, -3): 0, (4, 0): 0, (3, -1): 0, (2, -2): 0, (4, 2): 1, (3, 1): 1, (2, 0): 1}\n",
      "{(4, -4): 0, (4, -2): 0, (3, -3): 0, (4, 0): 0, (3, -1): 0, (2, -2): 0, (4, 2): 1, (3, 1): 1, (2, 0): 1, (1, -1): 1}\n",
      "{(4, -4): 0, (4, -2): 0, (3, -3): 0, (4, 0): 0, (3, -1): 0, (2, -2): 0, (4, 2): 1, (3, 1): 1, (2, 0): 1, (1, -1): 1, (4, 4): 1}\n",
      "{(4, -4): 0, (4, -2): 0, (3, -3): 0, (4, 0): 0, (3, -1): 0, (2, -2): 0, (4, 2): 1, (3, 1): 1, (2, 0): 1, (1, -1): 1, (4, 4): 1, (3, 3): 2}\n",
      "{(4, -4): 0, (4, -2): 0, (3, -3): 0, (4, 0): 0, (3, -1): 0, (2, -2): 0, (4, 2): 1, (3, 1): 1, (2, 0): 1, (1, -1): 1, (4, 4): 1, (3, 3): 2, (2, 2): 3}\n",
      "{(4, -4): 0, (4, -2): 0, (3, -3): 0, (4, 0): 0, (3, -1): 0, (2, -2): 0, (4, 2): 1, (3, 1): 1, (2, 0): 1, (1, -1): 1, (4, 4): 1, (3, 3): 2, (2, 2): 3, (1, 1): 4}\n",
      "{(4, -4): 0, (4, -2): 0, (3, -3): 0, (4, 0): 0, (3, -1): 0, (2, -2): 0, (4, 2): 1, (3, 1): 1, (2, 0): 1, (1, -1): 1, (4, 4): 1, (3, 3): 2, (2, 2): 3, (1, 1): 4, (0, 0): 5}\n"
     ]
    }
   ],
   "source": [
    "ans = solver.findTargetSumWays(nums,3)"
   ]
  },
  {
   "cell_type": "code",
   "execution_count": 46,
   "id": "257b9500-d196-4a2e-9cbd-2a924d254ae7",
   "metadata": {},
   "outputs": [
    {
     "data": {
      "text/plain": [
       "5"
      ]
     },
     "execution_count": 46,
     "metadata": {},
     "output_type": "execute_result"
    }
   ],
   "source": [
    "ans"
   ]
  },
  {
   "cell_type": "code",
   "execution_count": 51,
   "id": "fc4b0ea4-1872-495e-8eaa-d289430abf82",
   "metadata": {},
   "outputs": [],
   "source": [
    "memo = [0 for _ in range(4 + 1)]"
   ]
  },
  {
   "cell_type": "code",
   "execution_count": 52,
   "id": "f261cd14-5998-4734-99fe-994d41b12338",
   "metadata": {},
   "outputs": [
    {
     "data": {
      "text/plain": [
       "[0, 0, 0, 0, 0]"
      ]
     },
     "execution_count": 52,
     "metadata": {},
     "output_type": "execute_result"
    }
   ],
   "source": [
    "memo"
   ]
  },
  {
   "cell_type": "code",
   "execution_count": null,
   "id": "9a167320-bb43-4e0c-8edb-86a2f7653306",
   "metadata": {},
   "outputs": [],
   "source": []
  }
 ],
 "metadata": {
  "kernelspec": {
   "display_name": "Python 3 (ipykernel)",
   "language": "python",
   "name": "python3"
  },
  "language_info": {
   "codemirror_mode": {
    "name": "ipython",
    "version": 3
   },
   "file_extension": ".py",
   "mimetype": "text/x-python",
   "name": "python",
   "nbconvert_exporter": "python",
   "pygments_lexer": "ipython3",
   "version": "3.12.4"
  }
 },
 "nbformat": 4,
 "nbformat_minor": 5
}
