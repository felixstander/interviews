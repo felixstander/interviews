{
 "cells": [
  {
   "cell_type": "markdown",
   "id": "f9a720bf-e4a9-4642-bbad-5c696d87b0ab",
   "metadata": {},
   "source": [
    "### Horspool算法\n",
    "1. 对于给定文本串 T与模式串 p，先对模式串 p 进行预处理。然后在匹配的过程中，当发现文本串 T 的某个字符与模式串 p 不匹配的时候，根据启发策略，能够尽可能的跳过一些无法匹配的情况，将模式串多向后滑动几位。\n",
    "2. Horspool 算法思想和 Boyer Moore 算法思想是一致的。Horspool 算法是在 Boyer Moore 算法思想基础上改进了「坏字符规则」"
   ]
  },
  {
   "cell_type": "code",
   "execution_count": null,
   "id": "fc828af2-f132-4c64-8573-a5e379a9edd4",
   "metadata": {},
   "outputs": [],
   "source": [
    "\n",
    "\n"
   ]
  }
 ],
 "metadata": {
  "kernelspec": {
   "display_name": "Python 3 (ipykernel)",
   "language": "python",
   "name": "python3"
  },
  "language_info": {
   "codemirror_mode": {
    "name": "ipython",
    "version": 3
   },
   "file_extension": ".py",
   "mimetype": "text/x-python",
   "name": "python",
   "nbconvert_exporter": "python",
   "pygments_lexer": "ipython3",
   "version": "3.12.4"
  }
 },
 "nbformat": 4,
 "nbformat_minor": 5
}
