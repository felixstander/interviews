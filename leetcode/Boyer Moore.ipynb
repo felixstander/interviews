{
 "cells": [
  {
   "cell_type": "code",
   "execution_count": null,
   "id": "3fd44bc0-f15d-4722-b93f-a98f1e2f785a",
   "metadata": {},
   "outputs": [],
   "source": []
  },
  {
   "cell_type": "code",
   "execution_count": 2,
   "id": "20c829d1-0fc7-4927-8b3c-c51e1ca4033d",
   "metadata": {},
   "outputs": [
    {
     "name": "stdout",
     "output_type": "stream",
     "text": [
      "1\n",
      "0\n"
     ]
    }
   ],
   "source": [
    "# BM 匹配算法\n",
    "def boyerMoore(T: str, p: str) -> int:\n",
    "    n, m = len(T), len(p)\n",
    "    \n",
    "    bc_table = generateBadCharTable(p)              # 生成坏字符位置表\n",
    "    gs_list = generageGoodSuffixList(p)             # 生成好后缀规则后移位数表\n",
    "    \n",
    "    i = 0\n",
    "    while i <= n - m:\n",
    "        j = m - 1\n",
    "        while j > -1 and T[i + j] == p[j]:          # 进行后缀匹配，跳出循环说明出现坏字符\n",
    "            j -= 1\n",
    "        if j < 0:\n",
    "            return i                                # 匹配完成，返回模式串 p 在文本串 T 中的位置\n",
    "        bad_move = j - bc_table.get(T[i + j], -1)   # 坏字符规则下的后移位数\n",
    "        good_move = gs_list[j]                      # 好后缀规则下的后移位数\n",
    "        i += max(bad_move, good_move)               # 取两种规则下后移位数的最大值进行移动\n",
    "    return -1\n",
    "            \n",
    "    \n",
    "# 生成坏字符位置表\n",
    "# bc_table[bad_char] 表示坏字符在模式串中最后一次出现的位置\n",
    "def generateBadCharTable(p: str):\n",
    "    bc_table = dict()\n",
    "    \n",
    "    for i in range(len(p)):\n",
    "        bc_table[p[i]] = i                          # 更新坏字符在模式串中最后一次出现的位置\n",
    "    return bc_table\n",
    "\n",
    "# 生成好后缀规则后移位数表\n",
    "# gs_list[j] 表示在 j 下标处遇到坏字符时，可根据好规则向右移动的距离\n",
    "def generageGoodSuffixList(p: str):\n",
    "    # 好后缀规则后移位数表\n",
    "    # 情况 1: 模式串中有子串匹配上好后缀\n",
    "    # 情况 2: 模式串中无子串匹配上好后缀，但有最长前缀匹配好后缀的后缀\n",
    "    # 情况 3: 模式串中无子串匹配上好后缀，也找不到前缀匹配\n",
    "    \n",
    "    m = len(p)\n",
    "    gs_list = [m for _ in range(m)]                 # 情况 3：初始化时假设全部为情况 3\n",
    "    suffix = generageSuffixArray(p)                 # 生成 suffix 数组\n",
    "    \n",
    "    j = 0                                           # j 为好后缀前的坏字符位置\n",
    "    for i in range(m - 1, -1, -1):                  # 情况 2：从最长的前缀开始检索\n",
    "        if suffix[i] == i + 1:                      # 匹配到前缀，即 p[0...i] == p[m-1-i...m-1]\n",
    "            while j < m - 1 - i:\n",
    "                if gs_list[j] == m:\n",
    "                    gs_list[j] = m - 1 - i          # 更新在 j 处遇到坏字符可向后移动位数\n",
    "                j += 1\n",
    "        \n",
    "    for i in range(m - 1):                          # 情况 1：匹配到子串 p[i-s...i] == p[m-1-s, m-1]\n",
    "        gs_list[m - 1 - suffix[i]] = m - 1 - i      # 更新在好后缀的左端点处遇到坏字符可向后移动位数\n",
    "    return gs_list\n",
    "\n",
    "# 生成 suffix 数组\n",
    "# suffix[i] 表示为以下标 i 为结尾的子串与模式串后缀匹配的最大长度\n",
    "def generageSuffixArray(p: str):\n",
    "    m = len(p)\n",
    "    suffix = [m for _ in range(m)]                  # 初始化时假设匹配的最大长度为 m\n",
    "    for i in range(m - 2, -1, -1):                  # 子串末尾从 m - 2 开始\n",
    "        start = i                                   # start 为子串开始位置\n",
    "        while start >= 0 and p[start] == p[m - 1 - i + start]:\n",
    "            start -= 1                              # 进行后缀匹配，start 为匹配到的子串开始位置\n",
    "        suffix[i] = i - start                       # 更新以下标 i 为结尾的子串与模式串后缀匹配的最大长度\n",
    "    return suffix\n",
    "\n",
    "print(boyerMoore(\"abbcfdddbddcaddebc\", \"bb\"))\n",
    "print(boyerMoore(\"\", \"\"))\n"
   ]
  },
  {
   "cell_type": "code",
   "execution_count": null,
   "id": "a874d9e7-1fc7-4d62-b7b9-99cb4496bea1",
   "metadata": {},
   "outputs": [],
   "source": []
  }
 ],
 "metadata": {
  "kernelspec": {
   "display_name": "Python 3 (ipykernel)",
   "language": "python",
   "name": "python3"
  },
  "language_info": {
   "codemirror_mode": {
    "name": "ipython",
    "version": 3
   },
   "file_extension": ".py",
   "mimetype": "text/x-python",
   "name": "python",
   "nbconvert_exporter": "python",
   "pygments_lexer": "ipython3",
   "version": "3.12.4"
  }
 },
 "nbformat": 4,
 "nbformat_minor": 5
}
