{
 "cells": [
  {
   "cell_type": "markdown",
   "id": "3b1ac9c6-c807-42df-9a65-5a4526cb7ca6",
   "metadata": {},
   "source": [
    "### 基于堆栈实现的深度优先搜索代码"
   ]
  },
  {
   "cell_type": "code",
   "execution_count": 1,
   "id": "df6f1c1c-5e82-4d00-8543-5033e24c9dec",
   "metadata": {},
   "outputs": [],
   "source": [
    "class Solution:\n",
    "    def dfs_stack(self,graph,u):\n",
    "        print(u)\n",
    "        visited,stack = set(),[]\n",
    "        stack.append([u,0])\n",
    "        visited.add(u)\n",
    "        while stack:\n",
    "            u,i = stack.pop()\n",
    "            if i<len(graph[u]):\n",
    "                v = graph[u][i]\n",
    "                stack.append([u,i+1])\n",
    "                if v not in visited:\n",
    "                    print(v)\n",
    "                    stack.append([v,0])\n",
    "                    visited.add(v)\n",
    "\n"
   ]
  },
  {
   "cell_type": "code",
   "execution_count": 2,
   "id": "75b18ea1-7b15-4c77-a172-8a46c4739b4e",
   "metadata": {},
   "outputs": [
    {
     "name": "stdout",
     "output_type": "stream",
     "text": [
      "A\n",
      "B\n",
      "C\n",
      "D\n",
      "E\n",
      "F\n",
      "G\n"
     ]
    }
   ],
   "source": [
    "graph = {\n",
    "    \"A\": [\"B\", \"C\"],\n",
    "    \"B\": [\"A\", \"C\", \"D\"],\n",
    "    \"C\": [\"A\", \"B\", \"D\", \"E\"],\n",
    "    \"D\": [\"B\", \"C\", \"E\", \"F\"],\n",
    "    \"E\": [\"C\", \"D\"],\n",
    "    \"F\": [\"D\", \"G\"],\n",
    "    \"G\": []\n",
    "}\n",
    "\n",
    "# 基于堆栈实现的深度优先搜索\n",
    "Solution().dfs_stack(graph, \"A\")"
   ]
  },
  {
   "cell_type": "markdown",
   "id": "ab24f3d1-ab01-4bda-bb9e-118493c6f7b7",
   "metadata": {},
   "source": [
    "### 岛屿数量问题"
   ]
  },
  {
   "cell_type": "code",
   "execution_count": null,
   "id": "95e38ce1-e0fd-4abb-a89b-96787035b032",
   "metadata": {},
   "outputs": [],
   "source": [
    "class Solution:\n",
    "    def dfs(self, grid, i, j):\n",
    "        n = len(grid)\n",
    "        m = len(grid[0])\n",
    "        if i < 0 or i >= n or j < 0 or j >= m or grid[i][j] == '0':\n",
    "            return 0\n",
    "        grid[i][j] = '0'#并将该字符置为 '0'，保证下次不会被重复遍历。\n",
    "        self.dfs(grid, i + 1, j) #对于每一个字符为 '1' 的元素，遍历其上下左右四个方向，\n",
    "        self.dfs(grid, i, j + 1)\n",
    "        self.dfs(grid, i - 1, j)\n",
    "        self.dfs(grid, i, j - 1)\n",
    "\n",
    "    def numIslands(self, grid: List[List[str]]) -> int:\n",
    "        count = 0\n",
    "        for i in range(len(grid)):\n",
    "            for j in range(len(grid[0])): #o(n*m)\n",
    "                if grid[i][j] == '1':\n",
    "                    self.dfs(grid, i, j)\n",
    "                    count += 1\n",
    "        return count\n"
   ]
  },
  {
   "cell_type": "markdown",
   "id": "84c3ffe7-94fb-485e-b2d3-8b4cd9948964",
   "metadata": {},
   "source": [
    "### 基于队列实现的广度优先搜索"
   ]
  },
  {
   "cell_type": "code",
   "execution_count": 4,
   "id": "ac8d6c7a-1b97-4ace-8b58-71ae2a634956",
   "metadata": {},
   "outputs": [
    {
     "name": "stdout",
     "output_type": "stream",
     "text": [
      "0\n",
      "1\n",
      "6\n",
      "2\n",
      "3\n",
      "4\n",
      "5\n"
     ]
    }
   ],
   "source": [
    "import collections\n",
    "\n",
    "class Solution:\n",
    "    def bfs(self, graph, u):\n",
    "        visited = set()                     # 使用 visited 标记访问过的节点\n",
    "        queue = collections.deque([])       # 使用 queue 存放临时节点\n",
    "        \n",
    "        visited.add(u)                      # 将起始节点 u 标记为已访问\n",
    "        queue.append(u)                     # 将起始节点 u 加入队列中\n",
    "        \n",
    "        while queue:                        # 队列不为空\n",
    "            u = queue.popleft()             # 取出队头节点 u\n",
    "            print(u)                        # 访问节点 u\n",
    "            for v in graph[u]:              # 遍历节点 u 的所有未访问邻接节点 v\n",
    "                if v not in visited:        # 节点 v 未被访问\n",
    "                    visited.add(v)          # 将节点 v 标记为已访问\n",
    "                    queue.append(v)         # 将节点 v 加入队列中\n",
    "                \n",
    "\n",
    "graph = {\n",
    "    \"0\": [\"1\", \"2\"],\n",
    "    \"1\": [\"0\", \"2\", \"3\"],\n",
    "    \"2\": [\"0\", \"1\", \"3\", \"4\"],\n",
    "    \"3\": [\"1\", \"2\", \"4\", \"5\"],\n",
    "    \"4\": [\"2\", \"3\"],\n",
    "    \"5\": [\"3\", \"6\"],\n",
    "    \"6\": []\n",
    "}\n",
    "\n",
    "# 基于队列实现的广度优先搜索\n",
    "Solution().bfs(graph, \"0\")\n"
   ]
  },
  {
   "cell_type": "markdown",
   "id": "a5ae7e6d-1ca3-4432-8758-80c6b35715ed",
   "metadata": {},
   "source": [
    "### 拓扑排序"
   ]
  },
  {
   "cell_type": "code",
   "execution_count": 6,
   "id": "73ff8639-fba7-4d2b-ab70-a63c898f52c8",
   "metadata": {},
   "outputs": [],
   "source": [
    "numCourses = 4\n",
    "prerequisites = [[1,0],[2,0],[3,1],[3,2]]"
   ]
  },
  {
   "cell_type": "code",
   "execution_count": 7,
   "id": "0f1d78a0-bd3e-4126-b8b5-3358df2d48a2",
   "metadata": {},
   "outputs": [],
   "source": [
    "graph = dict()\n",
    "for i in range(numCourses):\n",
    "    graph[i] = []\n",
    "    \n",
    "for v, u in prerequisites:\n",
    "    graph[u].append(v)"
   ]
  },
  {
   "cell_type": "code",
   "execution_count": 8,
   "id": "d36b2ce4-0e76-476f-9ca6-73dfb10b8783",
   "metadata": {},
   "outputs": [
    {
     "data": {
      "text/plain": [
       "{0: [1, 2], 1: [3], 2: [3], 3: []}"
      ]
     },
     "execution_count": 8,
     "metadata": {},
     "output_type": "execute_result"
    }
   ],
   "source": [
    "graph"
   ]
  },
  {
   "cell_type": "code",
   "execution_count": 9,
   "id": "ed21305d-e8de-420c-96d0-0f970d6d095e",
   "metadata": {},
   "outputs": [],
   "source": [
    "indegrees = {u: 0 for u in graph}   # indegrees 用于记录所有顶点入度\n",
    "    "
   ]
  },
  {
   "cell_type": "code",
   "execution_count": 10,
   "id": "4cb50f65-7174-4d17-b91a-f5f5b911100e",
   "metadata": {},
   "outputs": [
    {
     "data": {
      "text/plain": [
       "{0: 0, 1: 0, 2: 0, 3: 0}"
      ]
     },
     "execution_count": 10,
     "metadata": {},
     "output_type": "execute_result"
    }
   ],
   "source": [
    "indegrees"
   ]
  },
  {
   "cell_type": "code",
   "execution_count": 11,
   "id": "75cc76b2-84f8-446a-86a8-c62531e58792",
   "metadata": {},
   "outputs": [],
   "source": [
    "for u in graph:\n",
    "    for v in graph[u]:\n",
    "        indegrees[v] += 1 "
   ]
  },
  {
   "cell_type": "code",
   "execution_count": 12,
   "id": "2cb92cc4-3f0b-4e68-b326-1c2e6c7fab82",
   "metadata": {},
   "outputs": [
    {
     "data": {
      "text/plain": [
       "{0: 0, 1: 1, 2: 1, 3: 2}"
      ]
     },
     "execution_count": 12,
     "metadata": {},
     "output_type": "execute_result"
    }
   ],
   "source": [
    "indegrees"
   ]
  },
  {
   "cell_type": "code",
   "execution_count": 13,
   "id": "ac182ed5-f0c6-4615-a07f-d61fd4c186d1",
   "metadata": {},
   "outputs": [],
   "source": [
    "graph = [[1,2],[2,3],[5],[0],[5],[],[]]"
   ]
  },
  {
   "cell_type": "code",
   "execution_count": 14,
   "id": "849d7d6e-0aeb-4406-90a7-04ae12b2864a",
   "metadata": {},
   "outputs": [],
   "source": [
    "graph_dict = {u: [] for u in range(len(graph))}"
   ]
  },
  {
   "cell_type": "code",
   "execution_count": 15,
   "id": "c1d09c15-e027-47d3-867a-e8ad4ac8f67b",
   "metadata": {},
   "outputs": [
    {
     "data": {
      "text/plain": [
       "{0: [], 1: [], 2: [], 3: [], 4: [], 5: [], 6: []}"
      ]
     },
     "execution_count": 15,
     "metadata": {},
     "output_type": "execute_result"
    }
   ],
   "source": [
    "graph_dict"
   ]
  },
  {
   "cell_type": "code",
   "execution_count": 16,
   "id": "f8d30056-3953-40b0-9a02-e926cd285a48",
   "metadata": {},
   "outputs": [],
   "source": [
    "for u in range(len(graph)):\n",
    "    for v in graph[u]:\n",
    "        graph_dict[v].append(u)    "
   ]
  },
  {
   "cell_type": "code",
   "execution_count": 17,
   "id": "88b79be1-fcd3-4cb1-ba8d-ac3c066107fe",
   "metadata": {},
   "outputs": [
    {
     "data": {
      "text/plain": [
       "{0: [3], 1: [0], 2: [0, 1], 3: [1], 4: [], 5: [2, 4], 6: []}"
      ]
     },
     "execution_count": 17,
     "metadata": {},
     "output_type": "execute_result"
    }
   ],
   "source": [
    "graph_dict"
   ]
  },
  {
   "cell_type": "markdown",
   "id": "c78302e2-ce13-4b77-9bb0-b217099c8a25",
   "metadata": {},
   "source": [
    "### 二叉树构建\n",
    "1. 如果莫二叉树节点的下标为i，那么其左孩子节点下标为2*i + 1,右孩子节点下标为2*i + 2"
   ]
  },
  {
   "cell_type": "code",
   "execution_count": 19,
   "id": "b01050fb-d69e-4b5c-bc53-ce3a1d628a6c",
   "metadata": {},
   "outputs": [],
   "source": [
    "from typing import Optional"
   ]
  },
  {
   "cell_type": "code",
   "execution_count": 22,
   "id": "2489e8aa-c969-44d0-bb40-50abf5db2cb8",
   "metadata": {},
   "outputs": [],
   "source": [
    "# Definition for a binary tree node.\n",
    "class TreeNode:\n",
    "    def __init__(self, val=0, left=None, right=None):\n",
    "        self.val = val\n",
    "        self.left = left\n",
    "        self.right = right\n",
    "class Solution:\n",
    "    def maxDepth(self, root: Optional[TreeNode]=None) -> int:\n",
    "        if not root:\n",
    "            return 0\n",
    "        return max(self.maxDepth(root.left),self.maxDepth(root.right)) +1"
   ]
  },
  {
   "cell_type": "code",
   "execution_count": 23,
   "id": "bea9611e-63ec-4fe6-96c7-ca226a53c42f",
   "metadata": {},
   "outputs": [],
   "source": [
    "root = [3,9,20,None,None,15,7]"
   ]
  },
  {
   "cell_type": "code",
   "execution_count": 26,
   "id": "2b94618e-1b28-4ebc-bd6e-bd0b2bd1f9cf",
   "metadata": {},
   "outputs": [],
   "source": [
    "def list_to_tree(lst):\n",
    "    if not lst:\n",
    "        return None\n",
    "    \n",
    "    root = TreeNode(lst[0])\n",
    "    queue = [root]\n",
    "    i = 1\n",
    "    \n",
    "    while queue and i < len(lst):\n",
    "        current_node = queue.pop(0)\n",
    "        \n",
    "        # 左子节点\n",
    "        if lst[i] is not None:\n",
    "            current_node.left = TreeNode(lst[i])\n",
    "            queue.append(current_node.left)\n",
    "        i += 1\n",
    "        \n",
    "        # 右子节点\n",
    "        if i < len(lst) and lst[i] is not None:\n",
    "            current_node.right = TreeNode(lst[i])\n",
    "            queue.append(current_node.right)\n",
    "        i += 1\n",
    "    \n",
    "    return root\n",
    "\n",
    "# 给定的列表\n",
    "root = [3, 9, 20, None, None, 15, 7]\n",
    "\n",
    "# 构建二叉树\n",
    "binary_tree = list_to_tree(root)\n"
   ]
  },
  {
   "cell_type": "code",
   "execution_count": 29,
   "id": "1d27f652-30a8-4ab9-982c-1c017be10f5c",
   "metadata": {},
   "outputs": [
    {
     "data": {
      "text/plain": [
       "<__main__.TreeNode at 0x10445cec0>"
      ]
     },
     "execution_count": 29,
     "metadata": {},
     "output_type": "execute_result"
    }
   ],
   "source": [
    "binary_tree.left"
   ]
  },
  {
   "cell_type": "code",
   "execution_count": 24,
   "id": "39029eef-8a3e-4489-a029-fe4c99ffad8e",
   "metadata": {},
   "outputs": [],
   "source": [
    "solver = Solution()"
   ]
  },
  {
   "cell_type": "code",
   "execution_count": 25,
   "id": "c90dd286-7a9f-4a95-895b-15f87c21ad52",
   "metadata": {},
   "outputs": [
    {
     "ename": "AttributeError",
     "evalue": "'list' object has no attribute 'left'",
     "output_type": "error",
     "traceback": [
      "\u001b[0;31m---------------------------------------------------------------------------\u001b[0m",
      "\u001b[0;31mAttributeError\u001b[0m                            Traceback (most recent call last)",
      "Cell \u001b[0;32mIn[25], line 1\u001b[0m\n\u001b[0;32m----> 1\u001b[0m ans \u001b[38;5;241m=\u001b[39m \u001b[43msolver\u001b[49m\u001b[38;5;241;43m.\u001b[39;49m\u001b[43mmaxDepth\u001b[49m\u001b[43m(\u001b[49m\u001b[43mroot\u001b[49m\u001b[43m)\u001b[49m\n",
      "Cell \u001b[0;32mIn[22], line 11\u001b[0m, in \u001b[0;36mSolution.maxDepth\u001b[0;34m(self, root)\u001b[0m\n\u001b[1;32m      9\u001b[0m \u001b[38;5;28;01mif\u001b[39;00m \u001b[38;5;129;01mnot\u001b[39;00m root:\n\u001b[1;32m     10\u001b[0m     \u001b[38;5;28;01mreturn\u001b[39;00m \u001b[38;5;241m0\u001b[39m\n\u001b[0;32m---> 11\u001b[0m \u001b[38;5;28;01mreturn\u001b[39;00m \u001b[38;5;28mmax\u001b[39m(\u001b[38;5;28mself\u001b[39m\u001b[38;5;241m.\u001b[39mmaxDepth(\u001b[43mroot\u001b[49m\u001b[38;5;241;43m.\u001b[39;49m\u001b[43mleft\u001b[49m),\u001b[38;5;28mself\u001b[39m\u001b[38;5;241m.\u001b[39mmaxDepth(root\u001b[38;5;241m.\u001b[39mright)) \u001b[38;5;241m+\u001b[39m\u001b[38;5;241m1\u001b[39m\n",
      "\u001b[0;31mAttributeError\u001b[0m: 'list' object has no attribute 'left'"
     ]
    }
   ],
   "source": [
    "ans = solver.maxDepth(root)"
   ]
  },
  {
   "cell_type": "code",
   "execution_count": null,
   "id": "8cb35107-2faa-40e3-bacf-7102ad283f49",
   "metadata": {},
   "outputs": [],
   "source": []
  }
 ],
 "metadata": {
  "kernelspec": {
   "display_name": "Python 3 (ipykernel)",
   "language": "python",
   "name": "python3"
  },
  "language_info": {
   "codemirror_mode": {
    "name": "ipython",
    "version": 3
   },
   "file_extension": ".py",
   "mimetype": "text/x-python",
   "name": "python",
   "nbconvert_exporter": "python",
   "pygments_lexer": "ipython3",
   "version": "3.12.2"
  }
 },
 "nbformat": 4,
 "nbformat_minor": 5
}
