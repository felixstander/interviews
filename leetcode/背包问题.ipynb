{
 "cells": [
  {
   "cell_type": "code",
   "execution_count": 1,
   "id": "13f00417-1f1e-4476-bce1-a529bd85fd83",
   "metadata": {},
   "outputs": [],
   "source": [
    "class Solution:\n",
    "    # 思路 1：动态规划 + 二维基本思路\n",
    "    def zeroOnePackMethod1(self, weight: [int], value: [int], W: int):\n",
    "        size = len(weight)\n",
    "        dp = [[0 for _ in range(W + 1)] for _ in range(size + 1)]\n",
    "        \n",
    "        # 枚举前 i 种物品\n",
    "        for i in range(1, size + 1):\n",
    "            # 枚举背包装载重量\n",
    "            for w in range(W + 1):\n",
    "                # 第 i - 1 件物品装不下\n",
    "                if w < weight[i - 1]:\n",
    "                    # dp[i][w] 取「前 i - 1 件物品装入载重为 w 的背包中的最大价值」\n",
    "                    dp[i][w] = dp[i - 1][w]\n",
    "                else:\n",
    "                    # dp[i][w] 取「前 i - 1 件物品装入载重为 w 的背包中的最大价值」与「前 i - 1 件物品装入载重为 w - weight[i - 1] 的背包中，再装入第 i - 1 物品所得的最大价值」两者中的最大值\n",
    "                    dp[i][w] = max(dp[i - 1][w], dp[i - 1][w - weight[i - 1]] + value[i - 1])\n",
    "                    \n",
    "        return dp[size][W]\n"
   ]
  },
  {
   "cell_type": "markdown",
   "id": "e4e3ee93-200b-4e48-9e18-a9db1edda526",
   "metadata": {},
   "source": [
    "### 完全背包问题"
   ]
  },
  {
   "cell_type": "code",
   "execution_count": null,
   "id": "5a2c61b8-dd32-4514-93c9-37dc33c5885a",
   "metadata": {},
   "outputs": [],
   "source": [
    "class Solution:\n",
    "    # 思路 3：动态规划 + 滚动数组优化\n",
    "    def completePackMethod3(self, weight: [int], value: [int], W: int):\n",
    "        size = len(weight)\n",
    "        dp = [0 for _ in range(W + 1)]\n",
    "        \n",
    "        # 枚举前 i 种物品\n",
    "        for i in range(1, size + 1):\n",
    "            # 正序枚举背包装载重量\n",
    "            for w in range(weight[i - 1], W + 1):\n",
    "                # dp[w] 取「前 i - 1 种物品装入载重为 w 的背包中的最大价值」与「前 i 种物品装入载重为 w - weight[i - 1] 的背包中，再装入 1 件第 i - 1 种物品所得的最大价值」两者中的最大值\n",
    "                dp[w] = max(dp[w], dp[w - weight[i - 1]] + value[i - 1])\n",
    "                \n",
    "        return dp[W]"
   ]
  }
 ],
 "metadata": {
  "kernelspec": {
   "display_name": "Python 3 (ipykernel)",
   "language": "python",
   "name": "python3"
  },
  "language_info": {
   "codemirror_mode": {
    "name": "ipython",
    "version": 3
   },
   "file_extension": ".py",
   "mimetype": "text/x-python",
   "name": "python",
   "nbconvert_exporter": "python",
   "pygments_lexer": "ipython3",
   "version": "3.12.4"
  }
 },
 "nbformat": 4,
 "nbformat_minor": 5
}
