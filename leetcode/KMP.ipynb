{
 "cells": [
  {
   "cell_type": "code",
   "execution_count": null,
   "id": "bca71dc4-6a5c-43c8-ab6c-4d79e695e46f",
   "metadata": {},
   "outputs": [],
   "source": []
  },
  {
   "cell_type": "code",
   "execution_count": 3,
   "id": "e32e88cf-8a3d-464c-b9ed-49d4d48dd9ee",
   "metadata": {},
   "outputs": [
    {
     "name": "stdout",
     "output_type": "stream",
     "text": [
      "-1\n",
      "2\n",
      "-1\n",
      "1\n",
      "3\n"
     ]
    }
   ],
   "source": [
    "# 生成 next 数组\n",
    "# next[j] 表示下标 j 之前的模式串 p 中，最长相等前后缀的长度\n",
    "def generateNext(p: str):\n",
    "    m = len(p)\n",
    "    next = [0 for _ in range(m)]                # 初始化数组元素全部为 0\n",
    "    \n",
    "    left = 0                                    # left 表示前缀串开始所在的下标位置\n",
    "    for right in range(1, m):                   # right 表示后缀串开始所在的下标位置\n",
    "        while left > 0 and p[left] != p[right]: # 匹配不成功, left 进行回退, left == 0 时停止回退\n",
    "            left = next[left - 1]               # left 进行回退操作\n",
    "        if p[left] == p[right]:                 # 匹配成功，找到相同的前后缀，先让 left += 1，此时 left 为前缀长度\n",
    "            left += 1\n",
    "        next[right] = left                      # 记录前缀长度，更新 next[right], 结束本次循环, right += 1\n",
    "\n",
    "    return next\n",
    "\n",
    "# KMP 匹配算法，T 为文本串，p 为模式串\n",
    "def kmp(T: str, p: str) -> int:\n",
    "    n, m = len(T), len(p)\n",
    "    \n",
    "    next = generateNext(p)                      # 生成 next 数组\n",
    "    \n",
    "    j = 0                                       # j 为模式串中当前匹配的位置\n",
    "    for i in range(n):                          # i 为文本串中当前匹配的位置\n",
    "        while j > 0 and T[i] != p[j]:           # 如果模式串前缀匹配不成功, 将模式串进行回退, j == 0 时停止回退\n",
    "            j = next[j - 1]\n",
    "        if T[i] == p[j]:                        # 当前模式串前缀匹配成功，令 j += 1，继续匹配\n",
    "            j += 1\n",
    "        if j == m:                              # 当前模式串完全匹配成功，返回匹配开始位置\n",
    "            return i - j + 1\n",
    "    return -1                                   # 匹配失败，返回 -1\n",
    "            \n",
    "print(kmp(\"abbcfdddbddcaddebc\", \"ABCABCD\"))\n",
    "print(kmp(\"abbcfdddbddcaddebc\", \"bcf\"))\n",
    "print(kmp(\"aaaaa\", \"bba\"))\n",
    "print(kmp(\"mississippi\", \"issi\"))\n",
    "print(kmp(\"ababbbbaaabbbaaa\", \"bbbb\"))\n"
   ]
  },
  {
   "cell_type": "code",
   "execution_count": 1,
   "id": "9472604b-8998-4688-a6e6-ff69a950b36e",
   "metadata": {},
   "outputs": [],
   "source": [
    "next = [0 for _ in range(5)]    "
   ]
  },
  {
   "cell_type": "code",
   "execution_count": 2,
   "id": "196b8414-2331-4587-9919-a3f00010971a",
   "metadata": {},
   "outputs": [
    {
     "data": {
      "text/plain": [
       "[0, 0, 0, 0, 0]"
      ]
     },
     "execution_count": 2,
     "metadata": {},
     "output_type": "execute_result"
    }
   ],
   "source": [
    "next"
   ]
  },
  {
   "cell_type": "code",
   "execution_count": null,
   "id": "9b6a8a1d-62bb-4bc1-8c72-852276a63407",
   "metadata": {},
   "outputs": [],
   "source": []
  }
 ],
 "metadata": {
  "kernelspec": {
   "display_name": "Python 3 (ipykernel)",
   "language": "python",
   "name": "python3"
  },
  "language_info": {
   "codemirror_mode": {
    "name": "ipython",
    "version": 3
   },
   "file_extension": ".py",
   "mimetype": "text/x-python",
   "name": "python",
   "nbconvert_exporter": "python",
   "pygments_lexer": "ipython3",
   "version": "3.12.2"
  }
 },
 "nbformat": 4,
 "nbformat_minor": 5
}
