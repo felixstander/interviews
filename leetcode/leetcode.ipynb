{
 "cells": [
  {
   "cell_type": "markdown",
   "id": "c1e88a39-93bb-41d1-9fc8-eeb42af0ef9e",
   "metadata": {},
   "source": [
    "### 快速排序\n",
    "NOTE:\n",
    "> 顺序是哨兵划分和递归分解"
   ]
  },
  {
   "cell_type": "code",
   "execution_count": null,
   "id": "d9b64c4d-62da-4d7b-84a0-2868f820b977",
   "metadata": {},
   "outputs": [],
   "source": [
    "import random\n",
    "\n",
    "class Solution:\n",
    "    # 随机哨兵划分：从 nums[low: high + 1] 中随机挑选一个基准数，并进行移位排序\n",
    "    def randomPartition(self, nums: [int], low: int, high: int) -> int:\n",
    "        # 随机挑选一个基准数\n",
    "        i = random.randint(low, high)\n",
    "        # 将基准数与最低位互换\n",
    "        nums[i], nums[low] = nums[low], nums[i]\n",
    "        # 以最低位为基准数，然后将数组中比基准数大的元素移动到基准数右侧，比他小的元素移动到基准数左侧。最后将基准数放到正确位置上\n",
    "        return self.partition(nums, low, high)\n",
    "    \n",
    "    # 哨兵划分：以第 1 位元素 nums[low] 为基准数，然后将比基准数小的元素移动到基准数左侧，将比基准数大的元素移动到基准数右侧，最后将基准数放到正确位置上\n",
    "    def partition(self, nums: [int], low: int, high: int) -> int:\n",
    "        # 以第 1 位元素为基准数\n",
    "        pivot = nums[low]\n",
    "        \n",
    "        i, j = low, high\n",
    "        while i < j:\n",
    "            # 从右向左找到第 1 个小于基准数的元素\n",
    "            while i < j and nums[j] >= pivot:\n",
    "                j -= 1\n",
    "            # 从左向右找到第 1 个大于基准数的元素\n",
    "            while i < j and nums[i] <= pivot:\n",
    "                i += 1\n",
    "            # 交换元素\n",
    "            nums[i], nums[j] = nums[j], nums[i]\n",
    "        \n",
    "        # 将基准节点放到正确位置上\n",
    "        nums[i], nums[low] = nums[low], nums[i]\n",
    "        # 返回基准数的索引\n",
    "        return i\n",
    "\n",
    "    def quickSort(self, nums: [int], low: int, high: int) -> [int]:\n",
    "        if low < high:\n",
    "            # 按照基准数的位置，将数组划分为左右两个子数组\n",
    "            pivot_i = self.randomPartition(nums, low, high)\n",
    "            # 对左右两个子数组分别进行递归快速排序\n",
    "            self.quickSort(nums, low, pivot_i - 1)\n",
    "            self.quickSort(nums, pivot_i + 1, high)\n",
    "\n",
    "        return nums\n",
    "\n",
    "    def sortArray(self, nums: [int]) -> [int]:\n",
    "        return self.quickSort(nums, 0, len(nums) - 1)\n"
   ]
  },
  {
   "cell_type": "code",
   "execution_count": 5,
   "id": "6753f320-c38b-4d4c-aca6-73b64c518f19",
   "metadata": {},
   "outputs": [],
   "source": [
    "nums = [4,7,5,2,6,1,3] "
   ]
  },
  {
   "cell_type": "code",
   "execution_count": null,
   "id": "e3d4503d-0ba5-40d7-a397-2ad8fb4b35da",
   "metadata": {},
   "outputs": [],
   "source": []
  }
 ],
 "metadata": {
  "kernelspec": {
   "display_name": "Python 3 (ipykernel)",
   "language": "python",
   "name": "python3"
  },
  "language_info": {
   "codemirror_mode": {
    "name": "ipython",
    "version": 3
   },
   "file_extension": ".py",
   "mimetype": "text/x-python",
   "name": "python",
   "nbconvert_exporter": "python",
   "pygments_lexer": "ipython3",
   "version": "3.12.4"
  }
 },
 "nbformat": 4,
 "nbformat_minor": 5
}
