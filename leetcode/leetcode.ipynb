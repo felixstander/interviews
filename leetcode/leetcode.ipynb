{
 "cells": [
  {
   "cell_type": "markdown",
   "id": "c1e88a39-93bb-41d1-9fc8-eeb42af0ef9e",
   "metadata": {},
   "source": [
    "### 快速排序\n",
    "NOTE:\n",
    "> 顺序是哨兵划分和递归分解"
   ]
  },
  {
   "cell_type": "code",
   "execution_count": null,
   "id": "d9b64c4d-62da-4d7b-84a0-2868f820b977",
   "metadata": {},
   "outputs": [],
   "source": [
    "import random\n",
    "\n",
    "class Solution:\n",
    "    # 随机哨兵划分：从 nums[low: high + 1] 中随机挑选一个基准数，并进行移位排序\n",
    "    def randomPartition(self, nums: [int], low: int, high: int) -> int:\n",
    "        # 随机挑选一个基准数\n",
    "        i = random.randint(low, high)\n",
    "        # 将基准数与最低位互换\n",
    "        nums[i], nums[low] = nums[low], nums[i]\n",
    "        # 以最低位为基准数，然后将数组中比基准数大的元素移动到基准数右侧，比他小的元素移动到基准数左侧。最后将基准数放到正确位置上\n",
    "        return self.partition(nums, low, high)\n",
    "    \n",
    "    # 哨兵划分：以第 1 位元素 nums[low] 为基准数，然后将比基准数小的元素移动到基准数左侧，将比基准数大的元素移动到基准数右侧，最后将基准数放到正确位置上\n",
    "    def partition(self, nums: [int], low: int, high: int) -> int:\n",
    "        # 以第 1 位元素为基准数\n",
    "        pivot = nums[low]\n",
    "        \n",
    "        i, j = low, high\n",
    "        while i < j:\n",
    "            # 从右向左找到第 1 个小于基准数的元素\n",
    "            while i < j and nums[j] >= pivot:\n",
    "                j -= 1\n",
    "            # 从左向右找到第 1 个大于基准数的元素\n",
    "            while i < j and nums[i] <= pivot:\n",
    "                i += 1\n",
    "            # 交换元素\n",
    "            nums[i], nums[j] = nums[j], nums[i]\n",
    "        \n",
    "        # 将基准节点放到正确位置上\n",
    "        nums[i], nums[low] = nums[low], nums[i]\n",
    "        # 返回基准数的索引\n",
    "        return i\n",
    "\n",
    "    def quickSort(self, nums: [int], low: int, high: int) -> [int]:\n",
    "        if low < high:\n",
    "            # 按照基准数的位置，将数组划分为左右两个子数组\n",
    "            pivot_i = self.randomPartition(nums, low, high)\n",
    "            # 对左右两个子数组分别进行递归快速排序\n",
    "            self.quickSort(nums, low, pivot_i - 1)\n",
    "            self.quickSort(nums, pivot_i + 1, high)\n",
    "\n",
    "        return nums\n",
    "\n",
    "    def sortArray(self, nums: [int]) -> [int]:\n",
    "        return self.quickSort(nums, 0, len(nums) - 1)\n"
   ]
  },
  {
   "cell_type": "code",
   "execution_count": 5,
   "id": "6753f320-c38b-4d4c-aca6-73b64c518f19",
   "metadata": {},
   "outputs": [],
   "source": [
    "nums = [4,7,5,2,6,1,3] "
   ]
  },
  {
   "cell_type": "markdown",
   "id": "48e646b0-b8d9-4867-9f11-2ce6a2e57c1e",
   "metadata": {},
   "source": [
    "### 对撞指针\n",
    "- 计算两数只和"
   ]
  },
  {
   "cell_type": "code",
   "execution_count": null,
   "id": "e3d4503d-0ba5-40d7-a397-2ad8fb4b35da",
   "metadata": {},
   "outputs": [],
   "source": [
    "class Solution:\n",
    "    def twoSum(self, numbers: List[int], target: int) -> List[int]:\n",
    "        left = 0\n",
    "        right = len(numbers) - 1\n",
    "        while left < right:\n",
    "            total = numbers[left] + numbers[right]\n",
    "            if total == target:\n",
    "                return [left + 1, right + 1]\n",
    "            elif total < target:\n",
    "                left += 1\n",
    "            else:\n",
    "                right -= 1\n",
    "        return [-1, -1]\n"
   ]
  },
  {
   "cell_type": "markdown",
   "id": "78d58085-e824-47b2-bb35-08c5d7ddd731",
   "metadata": {},
   "source": [
    "### 判断是否为回文串"
   ]
  },
  {
   "cell_type": "code",
   "execution_count": null,
   "id": "baf5aaa0-85a4-4231-8c6a-5b5425efc5c5",
   "metadata": {},
   "outputs": [],
   "source": [
    "class Solution:\n",
    "    def isPalindrome(self,s:str)->bool:\n",
    "        left=0\n",
    "        right=len(s)-1\n",
    "        while left<right:\n",
    "            if not s[left].isalnum():\n",
    "                left+=1\n",
    "                continue\n",
    "            if not s[right].isalnum():\n",
    "                right-=1\n",
    "                continue\n",
    "            if s[left].lower() == s[right].lower():\n",
    "                left+=1\n",
    "                right-=1\n",
    "            else:\n",
    "                return False\n",
    "        return True"
   ]
  },
  {
   "cell_type": "markdown",
   "id": "e8945846-3003-4b81-b4cd-e6f98cbbc5d7",
   "metadata": {},
   "source": [
    "### 盛最多水的容器"
   ]
  },
  {
   "cell_type": "code",
   "execution_count": 7,
   "id": "e8eea1d6-2751-4fa3-8a56-33e6cba53d07",
   "metadata": {},
   "outputs": [],
   "source": [
    "class Solution:\n",
    "    def mostwater(self,nums:list[int])->int:\n",
    "        left=0\n",
    "        right = len(nums)-1\n",
    "        ans = 0\n",
    "        while left<right:\n",
    "            area = min(nums[left],nums[right]) * (right-left)\n",
    "            ans = max(ans,area)\n",
    "            if nums[left]<nums[right]:\n",
    "                left+=1\n",
    "            else:\n",
    "                right-=1\n",
    "        return ans"
   ]
  },
  {
   "cell_type": "code",
   "execution_count": 8,
   "id": "99645196-3d7a-4b3b-9531-3b702b0d6a13",
   "metadata": {},
   "outputs": [],
   "source": [
    "nums = [1,8,6,2,5,4,8,3,7]"
   ]
  },
  {
   "cell_type": "code",
   "execution_count": 9,
   "id": "47900fc6-c77d-41de-88cc-327102c110bb",
   "metadata": {},
   "outputs": [],
   "source": [
    "slover = Solution()"
   ]
  },
  {
   "cell_type": "code",
   "execution_count": 10,
   "id": "aa4547b5-c31f-4b1d-82ad-c530967f5317",
   "metadata": {},
   "outputs": [],
   "source": [
    "answer = slover.mostwater(nums)"
   ]
  },
  {
   "cell_type": "code",
   "execution_count": 11,
   "id": "7b91fab6-24e4-4e4c-a7e2-8a9a09af99e7",
   "metadata": {},
   "outputs": [
    {
     "name": "stdout",
     "output_type": "stream",
     "text": [
      "49\n"
     ]
    }
   ],
   "source": [
    "print(answer)"
   ]
  },
  {
   "cell_type": "markdown",
   "id": "3e55a3ed-1e26-4db1-bf0b-252e1ba33679",
   "metadata": {},
   "source": [
    "### 计数排序"
   ]
  },
  {
   "cell_type": "code",
   "execution_count": 12,
   "id": "494ffe04-edd9-48ec-84b1-69894cbf1458",
   "metadata": {},
   "outputs": [],
   "source": [
    "class Solution:\n",
    "    def countingSort(self, nums: [int]) -> [int]:\n",
    "        # 计算待排序数组中最大值元素 nums_max 和最小值元素 nums_min\n",
    "        nums_min, nums_max = min(nums), max(nums)\n",
    "        # 定义计数数组 counts，大小为 最大值元素 - 最小值元素 + 1\n",
    "        size = nums_max - nums_min + 1\n",
    "        counts = [0 for _ in range(size)]\n",
    "        \n",
    "        # 统计值为 num 的元素出现的次数\n",
    "        for num in nums:\n",
    "            counts[num - nums_min] += 1\n",
    "        \n",
    "        # 生成累积计数数组\n",
    "        for i in range(1, size):\n",
    "            counts[i] += counts[i - 1]\n",
    "\n",
    "        # 反向填充目标数组\n",
    "        res = [0 for _ in range(len(nums))]\n",
    "        for i in range(len(nums) - 1, -1, -1):\n",
    "            num = nums[i]\n",
    "            # 根据累积计数数组，将 num 放在数组对应位置\n",
    "            res[counts[num - nums_min] - 1] = num\n",
    "            # 将 num 的对应放置位置减 1，从而得到下个元素 num 的放置位置\n",
    "            counts[nums[i] - nums_min] -= 1\n",
    "\n",
    "        return res\n",
    "\n",
    "    def sortArray(self, nums: [int]) -> [int]:\n",
    "        return self.countingSort(nums)\n"
   ]
  },
  {
   "cell_type": "code",
   "execution_count": 13,
   "id": "031b655e-cec6-4edf-bb67-8d87795b740b",
   "metadata": {},
   "outputs": [],
   "source": [
    "nums = [3,0,4,2,5,1,3,1,4,5]"
   ]
  },
  {
   "cell_type": "code",
   "execution_count": 18,
   "id": "511becf3-a32d-44f8-8857-86546e82019c",
   "metadata": {},
   "outputs": [],
   "source": [
    "nums_min, nums_max = min(nums), max(nums)"
   ]
  },
  {
   "cell_type": "code",
   "execution_count": 19,
   "id": "372eef90-407b-4cee-b219-0f2b7817ffb3",
   "metadata": {},
   "outputs": [],
   "source": [
    "size = nums_max - nums_min + 1"
   ]
  },
  {
   "cell_type": "code",
   "execution_count": 22,
   "id": "875c9d20-65a1-4ace-962d-42c57de2c32c",
   "metadata": {},
   "outputs": [],
   "source": [
    "counts = [0 for _ in range(size)]"
   ]
  },
  {
   "cell_type": "code",
   "execution_count": 24,
   "id": "b0719ae0-94d2-4a7a-b4d5-898fdb176a49",
   "metadata": {},
   "outputs": [],
   "source": [
    "for num in nums:\n",
    "    counts[num - nums_min] += 1\n",
    "        "
   ]
  },
  {
   "cell_type": "code",
   "execution_count": 25,
   "id": "3ed9c6ff-4339-4ef4-8054-62cd20800313",
   "metadata": {},
   "outputs": [
    {
     "data": {
      "text/plain": [
       "[1, 2, 1, 2, 2, 2]"
      ]
     },
     "execution_count": 25,
     "metadata": {},
     "output_type": "execute_result"
    }
   ],
   "source": [
    "counts"
   ]
  },
  {
   "cell_type": "code",
   "execution_count": 26,
   "id": "afb92470-b178-4b53-8598-9fdb18dd3eb0",
   "metadata": {},
   "outputs": [],
   "source": [
    " for i in range(1, size):\n",
    "            counts[i] += counts[i - 1]"
   ]
  },
  {
   "cell_type": "code",
   "execution_count": 27,
   "id": "3e025848-99dc-418b-ab4a-a463ddfff112",
   "metadata": {},
   "outputs": [
    {
     "data": {
      "text/plain": [
       "[1, 3, 4, 6, 8, 10]"
      ]
     },
     "execution_count": 27,
     "metadata": {},
     "output_type": "execute_result"
    }
   ],
   "source": [
    "counts"
   ]
  },
  {
   "cell_type": "code",
   "execution_count": 16,
   "id": "cfed4648-613f-486f-89a5-7431b6f5d8ca",
   "metadata": {},
   "outputs": [],
   "source": [
    "slov = Solution()"
   ]
  },
  {
   "cell_type": "code",
   "execution_count": 17,
   "id": "96cbb764-e82e-4a2c-9cd8-45ba5145704a",
   "metadata": {},
   "outputs": [
    {
     "name": "stdout",
     "output_type": "stream",
     "text": [
      "[0, 1, 1, 2, 3, 3, 4, 4, 5, 5]\n"
     ]
    }
   ],
   "source": [
    "print(slov.sortArray(nums))"
   ]
  },
  {
   "cell_type": "markdown",
   "id": "5e958f4f-582a-4c4b-be25-a3a1b41204eb",
   "metadata": {},
   "source": [
    "### 桶排序"
   ]
  },
  {
   "cell_type": "code",
   "execution_count": null,
   "id": "7456fce7-ab78-444c-896a-2dd1fd930ceb",
   "metadata": {},
   "outputs": [],
   "source": [
    "class Solution:\n",
    "    def insertionSort(self, nums: [int]) -> [int]:\n",
    "        # 遍历无序区间\n",
    "        for i in range(1, len(nums)):\n",
    "            temp = nums[i]\n",
    "            j = i\n",
    "            # 从右至左遍历有序区间\n",
    "            while j > 0 and nums[j - 1] > temp:\n",
    "                # 将有序区间中插入位置右侧的元素依次右移一位\n",
    "                nums[j] = nums[j - 1]\n",
    "                j -= 1\n",
    "            # 将该元素插入到适当位置\n",
    "            nums[j] = temp\n",
    "            \n",
    "        return nums\n",
    "\n",
    "    def bucketSort(self,  nums: [int], bucket_size=5) -> [int]:\n",
    "        # 计算待排序序列中最大值元素 nums_max、最小值元素 nums_min\n",
    "        nums_min, nums_max = min(nums), max(nums)\n",
    "        # 定义桶的个数为 (最大值元素 - 最小值元素) // 每个桶的大小 + 1\n",
    "        bucket_count = (nums_max - nums_min) // bucket_size + 1\n",
    "        # 定义桶数组 buckets\n",
    "        buckets = [[] for _ in range(bucket_count)]\n",
    "\n",
    "        # 遍历待排序数组元素，将每个元素根据大小分配到对应的桶中\n",
    "        for num in nums:\n",
    "            buckets[(num - nums_min) // bucket_size].append(num)\n",
    "\n",
    "        # 对每个非空桶内的元素单独排序，排序之后，按照区间顺序依次合并到 res 数组中\n",
    "        res = []\n",
    "        for bucket in buckets:\n",
    "            self.insertitonSort(bucket)\n",
    "            res.extend(bucket)\n",
    "        \n",
    "        # 返回结果数组\n",
    "        return res\n",
    "\n",
    "    def sortArray(self, nums: [int]) -> [int]:\n",
    "        return self.bucketSort(nums)\n"
   ]
  },
  {
   "cell_type": "code",
   "execution_count": 28,
   "id": "42b75fac-fe8e-4bbb-9741-ccb2012e372b",
   "metadata": {},
   "outputs": [],
   "source": [
    "nums=[39,49,8,13,22,15,10,30,5,44]"
   ]
  },
  {
   "cell_type": "code",
   "execution_count": 30,
   "id": "1a2715f3-24f7-4ebb-b642-ee7586cebe62",
   "metadata": {},
   "outputs": [],
   "source": [
    "nums_min, nums_max = min(nums), max(nums)"
   ]
  },
  {
   "cell_type": "code",
   "execution_count": 34,
   "id": "83194248-23ac-4c0e-be57-9c13b000a469",
   "metadata": {},
   "outputs": [],
   "source": [
    "bucket_count = (nums_max - nums_min) // 5 + 1"
   ]
  },
  {
   "cell_type": "code",
   "execution_count": 35,
   "id": "f496929b-66cd-4c9c-bebd-9be48d2af9c2",
   "metadata": {},
   "outputs": [
    {
     "data": {
      "text/plain": [
       "9"
      ]
     },
     "execution_count": 35,
     "metadata": {},
     "output_type": "execute_result"
    }
   ],
   "source": [
    "bucket_count"
   ]
  },
  {
   "cell_type": "code",
   "execution_count": null,
   "id": "246ef9c3-9642-46e9-9a98-99de383a9b73",
   "metadata": {},
   "outputs": [],
   "source": [
    "def insertsort(nums:[int]):\n",
    "    for i in range(1,len(nums)):\n",
    "        tmp = nums[i]\n",
    "        j = i\n",
    "        while j>0 and nums[j-1]>tmp:\n",
    "            nums[j] = nums[j-1]\n",
    "            j-=1\n",
    "        nums[j] = tmp\n",
    "    return nums"
   ]
  },
  {
   "cell_type": "markdown",
   "id": "4a77766d-02a6-4789-aafc-f01f8298aa20",
   "metadata": {},
   "source": [
    "### 栈"
   ]
  },
  {
   "cell_type": "code",
   "execution_count": 36,
   "id": "a46c80d6-b615-47ea-a473-f754b2af0efa",
   "metadata": {},
   "outputs": [],
   "source": [
    "class Solution:\n",
    "    def calculate(self, s: str) -> int:\n",
    "        size = len(s)\n",
    "        stack = []\n",
    "        op = '+'\n",
    "        index = 0\n",
    "        while index < size:\n",
    "            if s[index] == ' ':\n",
    "                index += 1\n",
    "                continue\n",
    "            if s[index].isdigit():\n",
    "                num = ord(s[index]) - ord('0')\n",
    "                while index + 1 < size and s[index+1].isdigit():\n",
    "                    index += 1\n",
    "                    num = 10 * num + ord(s[index]) - ord('0')\n",
    "                if op == '+':\n",
    "                    stack.append(num)\n",
    "                elif op == '-':\n",
    "                    stack.append(-num)\n",
    "                elif op == '*':\n",
    "                    top = stack.pop()\n",
    "                    stack.append(top * num)\n",
    "                elif op == '/':\n",
    "                    top = stack.pop()\n",
    "                    stack.append(int(top / num))\n",
    "            elif s[index] in \"+-*/\":\n",
    "                op = s[index]\n",
    "            index += 1\n",
    "        return sum(stack)\n"
   ]
  },
  {
   "cell_type": "code",
   "execution_count": 40,
   "id": "1ccae2c9-98f7-4c24-92df-44eedc7e292e",
   "metadata": {},
   "outputs": [],
   "source": [
    "s = \"3+2*2\""
   ]
  },
  {
   "cell_type": "code",
   "execution_count": 41,
   "id": "0ec0b6c2-7e8b-4f31-a2a3-56a84ec44b34",
   "metadata": {},
   "outputs": [],
   "source": [
    "slov = Solution()"
   ]
  },
  {
   "cell_type": "code",
   "execution_count": 42,
   "id": "c0f3c2a5-d3ad-4337-8d04-8352d7dd85ce",
   "metadata": {},
   "outputs": [],
   "source": [
    "ans = slov.calculate(s)"
   ]
  },
  {
   "cell_type": "code",
   "execution_count": 43,
   "id": "76ca653f-26e0-448b-94ce-c916378bbd0f",
   "metadata": {},
   "outputs": [
    {
     "data": {
      "text/plain": [
       "7"
      ]
     },
     "execution_count": 43,
     "metadata": {},
     "output_type": "execute_result"
    }
   ],
   "source": [
    "ans"
   ]
  },
  {
   "cell_type": "markdown",
   "id": "29c612cd-27c6-4941-bdfd-19f504777ca3",
   "metadata": {},
   "source": [
    "### 优先队列\n",
    "1. heapAdjust,移走了最大值元素以后的剩余元素组成的序列再构造一个新的堆积。\n",
    "2. heapify,将数组构建为二叉堆方法(初始堆建立方法)\n",
    "3. heappush,遇到value小于当前根节点时，将其插入到当前位置。否则继续向上寻找插入位置。从d-1层开始最右侧分子节点开始，从下向上依次查找插入位置。\n",
    "4. heappop,交换数组nums首尾元素,此时nums尾部就是值最大(优先级最高)的元素，将其从nums中弹出。"
   ]
  },
  {
   "cell_type": "code",
   "execution_count": null,
   "id": "14155eef-6fcc-4fb2-93be-59c758e8c4a5",
   "metadata": {},
   "outputs": [],
   "source": [
    "class Heapq:\n",
    "    # 堆调整方法：调整为大顶堆\n",
    "    def heapAdjust(self, nums: [int], index: int, end: int):\n",
    "        left = index * 2 + 1\n",
    "        right = left + 1\n",
    "        while left <= end:\n",
    "            # 当前节点为非叶子结点\n",
    "            max_index = index\n",
    "            if nums[left] > nums[max_index]:\n",
    "                max_index = left\n",
    "            if right <= end and nums[right] > nums[max_index]:\n",
    "                max_index = right\n",
    "            if index == max_index:\n",
    "                # 如果不用交换，则说明已经交换结束\n",
    "                break\n",
    "            nums[index], nums[max_index] = nums[max_index], nums[index]\n",
    "            # 继续调整子树\n",
    "            index = max_index\n",
    "            left = index * 2 + 1\n",
    "            right = left + 1\n",
    "    \n",
    "    # 将数组构建为二叉堆\n",
    "    def heapify(self, nums: [int]):\n",
    "        size = len(nums)\n",
    "        # (size - 2) // 2 是最后一个非叶节点，叶节点不用调整\n",
    "        for i in range((size - 2) // 2, -1, -1):\n",
    "            # 调用调整堆函数\n",
    "            self.heapAdjust(nums, i, size - 1)\n",
    "    \n",
    "    # 入队操作\n",
    "    def heappush(self, nums: list, value):\n",
    "        nums.append(value)\n",
    "        size = len(nums)\n",
    "        i = size - 1\n",
    "        # 寻找插入位置\n",
    "        while (i - 1) // 2 >= 0:\n",
    "            cur_root = (i - 1) // 2\n",
    "            # value 小于当前根节点，则插入到当前位置\n",
    "            if nums[cur_root] > value:\n",
    "                break\n",
    "            # 继续向上查找\n",
    "            nums[i] = nums[cur_root]\n",
    "            i = cur_root\n",
    "        # 找到插入位置或者到达根位置，将其插入\n",
    "        nums[i] = value\n",
    "                \n",
    "    # 出队操作\n",
    "    def heappop(self, nums: list) -> int:\n",
    "        size = len(nums)\n",
    "        nums[0], nums[-1] = nums[-1], nums[0]\n",
    "        # 得到最大值（堆顶元素）然后调整堆\n",
    "        top = nums.pop()\n",
    "        if size > 0:\n",
    "            self.heapAdjust(nums, 0, size - 2)\n",
    "            \n",
    "        return top\n",
    "    \n",
    "    # 升序堆排序\n",
    "    def heapSort(self, nums: [int]):\n",
    "        self.heapify(nums)\n",
    "        size = len(nums)\n",
    "        for i in range(size):\n",
    "            nums[0], nums[size - i - 1] = nums[size - i - 1], nums[0]\n",
    "            self.heapAdjust(nums, 0, size - i - 2)\n",
    "        return nums\n"
   ]
  },
  {
   "cell_type": "code",
   "execution_count": null,
   "id": "0716b107-7eb3-404b-86b8-81981aeb7a4d",
   "metadata": {},
   "outputs": [],
   "source": [
    "import heapq\n",
    "\n",
    "class PriorityQueue:\n",
    "    def __init__(self):\n",
    "        self.queue = []\n",
    "        self.index = 0\n",
    "\n",
    "    def push(self, item, priority):\n",
    "        heapq.heappush(self.queue, (-priority, self.index, item))\n",
    "        self.index += 1\n",
    "\n",
    "    def pop(self):\n",
    "        return heapq.heappop(self.queue)[-1]\n"
   ]
  },
  {
   "cell_type": "code",
   "execution_count": null,
   "id": "d84b7509-7d8d-454e-aee9-d35fae54fbe6",
   "metadata": {},
   "outputs": [],
   "source": [
    "class Solution:\n",
    "    def maxSlidingWindow(self, nums: List[int], k: int) -> List[int]:\n",
    "        size = len(nums)\n",
    "        q = [(-nums[i], i) for i in range(k)]\n",
    "        heapq.heapify(q)\n",
    "        res = [-q[0][0]]\n",
    "\n",
    "        for i in range(k, size):\n",
    "            heapq.heappush(q, (-nums[i], i))\n",
    "            while q[0][1] <= i - k:\n",
    "                heapq.heappop(q)\n",
    "            res.append(-q[0][0])\n",
    "        return res\n"
   ]
  },
  {
   "cell_type": "code",
   "execution_count": 47,
   "id": "130c495d-bf90-4ae1-81a7-ec14503e81e9",
   "metadata": {},
   "outputs": [],
   "source": [
    "nums = [1,3,-1,-3,5,3,6,7]\n",
    "k=3"
   ]
  },
  {
   "cell_type": "code",
   "execution_count": 48,
   "id": "8c2643d1-a004-4234-8e69-d3296458f53f",
   "metadata": {},
   "outputs": [],
   "source": [
    "q = [(-nums[i], i) for i in range(k)]"
   ]
  },
  {
   "cell_type": "code",
   "execution_count": 49,
   "id": "71b05e03-b84b-4d0d-9a11-e97ae7a938a2",
   "metadata": {},
   "outputs": [
    {
     "data": {
      "text/plain": [
       "[(-1, 0), (-3, 1), (1, 2)]"
      ]
     },
     "execution_count": 49,
     "metadata": {},
     "output_type": "execute_result"
    }
   ],
   "source": [
    "q"
   ]
  },
  {
   "cell_type": "code",
   "execution_count": 50,
   "id": "d40f2724-1798-4f7c-aa10-e53c444701e5",
   "metadata": {},
   "outputs": [],
   "source": [
    "import heapq"
   ]
  },
  {
   "cell_type": "code",
   "execution_count": 51,
   "id": "833f715e-eea5-4166-9d01-035c1d8140b9",
   "metadata": {},
   "outputs": [],
   "source": [
    "heapq.heapify(q)"
   ]
  },
  {
   "cell_type": "code",
   "execution_count": 52,
   "id": "ec451533-27dd-4aad-b684-e8b2d1639c3e",
   "metadata": {},
   "outputs": [
    {
     "data": {
      "text/plain": [
       "[(-3, 1), (-1, 0), (1, 2)]"
      ]
     },
     "execution_count": 52,
     "metadata": {},
     "output_type": "execute_result"
    }
   ],
   "source": [
    "q"
   ]
  },
  {
   "cell_type": "code",
   "execution_count": 53,
   "id": "45a04417-a5bf-4cbd-9b5b-80455e9ac444",
   "metadata": {},
   "outputs": [],
   "source": [
    "res = [-q[0][0]]"
   ]
  },
  {
   "cell_type": "code",
   "execution_count": 54,
   "id": "3feb7f31-a023-4f19-bc9d-be99b7b8be66",
   "metadata": {},
   "outputs": [
    {
     "data": {
      "text/plain": [
       "[3]"
      ]
     },
     "execution_count": 54,
     "metadata": {},
     "output_type": "execute_result"
    }
   ],
   "source": [
    "res"
   ]
  },
  {
   "cell_type": "code",
   "execution_count": null,
   "id": "869b3762-bcd0-4bbf-849c-b4cb38e5d7d2",
   "metadata": {},
   "outputs": [],
   "source": [
    "def heappop(nums:list):\n",
    "    size=  len(nums)\n",
    "    nums[0],nums[-1] = nums[-1],nums[0]\n",
    "    top = nums.pop()"
   ]
  }
 ],
 "metadata": {
  "kernelspec": {
   "display_name": "Python 3 (ipykernel)",
   "language": "python",
   "name": "python3"
  },
  "language_info": {
   "codemirror_mode": {
    "name": "ipython",
    "version": 3
   },
   "file_extension": ".py",
   "mimetype": "text/x-python",
   "name": "python",
   "nbconvert_exporter": "python",
   "pygments_lexer": "ipython3",
   "version": "3.12.4"
  }
 },
 "nbformat": 4,
 "nbformat_minor": 5
}
