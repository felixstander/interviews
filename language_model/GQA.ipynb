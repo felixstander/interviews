{
 "cells": [
  {
   "cell_type": "code",
   "execution_count": 1,
   "metadata": {},
   "outputs": [],
   "source": [
    "import math\n",
    "import torch\n",
    "import torch.nn as nn"
   ]
  },
  {
   "cell_type": "markdown",
   "metadata": {},
   "source": [
    "![GQA.png](../assets/GQA.png)"
   ]
  },
  {
   "cell_type": "code",
   "execution_count": 23,
   "metadata": {},
   "outputs": [],
   "source": [
    "#忽略了attention mask和 dropout\n",
    "class GroupedQueryAttention(nn.Module):\n",
    "    def __init__(self,hidden_dim,num_heads,nums_key_value_heads):\n",
    "        super().__init__()\n",
    "        assert hidden_dim % num_heads==0 #必须整除\n",
    "        assert num_heads % nums_key_value_heads==0 #N个query head为一组\n",
    "        \n",
    "        self.hidden_dim = hidden_dim\n",
    "        self.nums_heads = num_heads\n",
    "        self.nums_key_value_heads = nums_key_value_heads\n",
    "        self.head_dim = hidden_dim // num_heads\n",
    "\n",
    "        #初始化 qkv o\n",
    "        self.q_proj = nn.Linear(hidden_dim,num_heads* self.head_dim) # out feature size(num_heads * head_dim)\n",
    "        #k v out shape (num_key_value_head * head_dim)\n",
    "        self.k_proj = nn.Linear(hidden_dim,nums_key_value_heads* self.head_dim)\n",
    "        self.v_proj = nn.Linear(hidden_dim,nums_key_value_heads* self.head_dim)\n",
    "\n",
    "        self.o_proj = nn.Linear(hidden_dim,hidden_dim) \n",
    "\n",
    "    def forward(self,X,attention_mask=None):\n",
    "        # X shape (batch,seq,hidden_dim,)\n",
    "        batch_size,seq,_ = X.size()\n",
    "\n",
    "        # qkv projection\n",
    "\n",
    "        q = self.q_proj(X) # (batch,seq,hidden_dim)\n",
    "        k = self.k_proj(X)\n",
    "        v = self.v_proj(X)\n",
    "\n",
    "        # attention weight计算,目标shape是(batch,nums_head,seq,seq)\n",
    "        q = q.view(batch_size,seq,self.nums_heads,self.head_dim)\n",
    "        k = k.view(batch_size,seq,self.nums_key_value_heads,self.head_dim)\n",
    "        v = v.view(batch_size,seq,self.nums_key_value_heads,self.head_dim)\n",
    "\n",
    "        #关注: nums_head 和 nums_key_value_head的关系\n",
    "        q = q.transpose(1,2) # (b,nums_head,seq,head_dim)\n",
    "        k = k.transpose(1,2) # (b,nums_key_value_head,seq,head_dim)\n",
    "        v = v.transpose(1,2) # (b,nums_key_value_head,seq,head_dim)\n",
    "\n",
    "        #k,v repeat:(torch里会进行广播操作，这里的话手动使用 repeat)\n",
    "        k = k.repeat_interleave(self.nums_heads// self.nums_key_value_heads,dim=1) # 对第二个dim,也就是 nums_key_value_head进行扩充\n",
    "        v = v.repeat_interleave(self.nums_heads// self.nums_key_value_heads,dim=1)\n",
    "\n",
    "        #@是矩阵相乘的意思,这里的目标是seq乘以seq，所以得调转一下\n",
    "        attention_score = (q @ k.transpose(2,3)) / math.sqrt(self.head_dim)\n",
    "\n",
    "        attention_weight = torch.softmax(attention_score,dim=-1)\n",
    "\n",
    "        #(attention mask 可以忽略)\n",
    "\n",
    "        output = attention_weight @ v # (b,nums_head,seq,head_dim)\n",
    "\n",
    "        #把output projection 变成(b,seq,hidden_dim)\n",
    "        output = output.transpose(1,2).contiguous() #因为view导致内存不连续，contiguous的作用是重新使内存连续\n",
    "\n",
    "        final_output = self.o_proj(output.view(batch_size,seq,-1))\n",
    "\n",
    "        return final_output\n",
    "\n",
    "\n",
    "\n",
    "\n"
   ]
  },
  {
   "cell_type": "code",
   "execution_count": 24,
   "metadata": {},
   "outputs": [],
   "source": [
    "hidden_dim =128\n",
    "num_heads = 8\n",
    "num_key_value_heads = 4"
   ]
  },
  {
   "cell_type": "code",
   "execution_count": 25,
   "metadata": {},
   "outputs": [],
   "source": [
    "batch_size = 3\n",
    "seq_length = 2\n",
    "hidden_dim = 128\n",
    "#假设有一个 batch_size为 3，seq长度为 2，每个 token的 embedding长度为128\n",
    "x = torch.rand(batch_size,seq_length,hidden_dim)"
   ]
  },
  {
   "cell_type": "code",
   "execution_count": 26,
   "metadata": {},
   "outputs": [],
   "source": [
    "net = GroupedQueryAttention(hidden_dim,num_heads,num_key_value_heads)"
   ]
  },
  {
   "cell_type": "code",
   "execution_count": 27,
   "metadata": {},
   "outputs": [
    {
     "data": {
      "text/plain": [
       "torch.Size([3, 2, 128])"
      ]
     },
     "execution_count": 27,
     "metadata": {},
     "output_type": "execute_result"
    }
   ],
   "source": [
    "net(x).shape"
   ]
  },
  {
   "cell_type": "code",
   "execution_count": null,
   "metadata": {},
   "outputs": [],
   "source": []
  }
 ],
 "metadata": {
  "kernelspec": {
   "display_name": "liger",
   "language": "python",
   "name": "python3"
  },
  "language_info": {
   "codemirror_mode": {
    "name": "ipython",
    "version": 3
   },
   "file_extension": ".py",
   "mimetype": "text/x-python",
   "name": "python",
   "nbconvert_exporter": "python",
   "pygments_lexer": "ipython3",
   "version": "3.12.7"
  }
 },
 "nbformat": 4,
 "nbformat_minor": 2
}
