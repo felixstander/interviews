{
 "cells": [
  {
   "cell_type": "markdown",
   "id": "907323f3-63e8-49f6-9684-4ca539d3bb56",
   "metadata": {},
   "source": [
    "### Brute Force"
   ]
  },
  {
   "cell_type": "code",
   "execution_count": null,
   "id": "b505993c-5072-4721-87c6-ed1d3a985ada",
   "metadata": {},
   "outputs": [],
   "source": [
    "def bruteForce(T: str, p: str) -> int:\n",
    "    n, m = len(T), len(p)\n",
    "    \n",
    "    i, j = 0, 0                     # i 表示文本串 T 的当前位置，j 表示模式串 p 的当前位置\n",
    "    while i < n and j < m:          # i 或 j 其中一个到达尾部时停止搜索\n",
    "        if T[i] == p[j]:            # 如果相等，则继续进行下一个字符匹配\n",
    "            i += 1\n",
    "            j += 1\n",
    "        else:\n",
    "            i = i - (j - 1)         # 如果匹配失败则将 i 移动到上次匹配开始位置的下一个位置\n",
    "            j = 0                   # 匹配失败 j 回退到模式串开始位置\n",
    "\n",
    "    if j == m:\n",
    "        return i - j                # 匹配成功，返回匹配的开始位置\n",
    "    else:\n",
    "        return -1                   # 匹配失败，返回 -1"
   ]
  },
  {
   "cell_type": "markdown",
   "id": "a275d94a-76f0-4613-b76d-68252bfc50d4",
   "metadata": {},
   "source": [
    "### Rabin karp\n",
    "1. Rabin Karp 算法思想：对于给定文本串 T与模式串 p，通过滚动哈希算快速筛选出与模式串 p 不匹配的文本位置，然后在其余位置继续检查匹配项。"
   ]
  },
  {
   "cell_type": "code",
   "execution_count": null,
   "id": "8078fa6c-348d-49c7-83a7-357ba28e8c56",
   "metadata": {},
   "outputs": [],
   "source": [
    "# T 为文本串，p 为模式串，d 为字符集的字符种类数，q 为质数\n",
    "def rabinKarp(T: str, p: str, d, q) -> int:\n",
    "    n, m = len(T), len(p)\n",
    "    if n < m:\n",
    "        return -1\n",
    "    \n",
    "    hash_p, hash_t = 0, 0\n",
    "    \n",
    "    for i in range(m):\n",
    "        hash_p = (hash_p * d + ord(p[i])) % q           # 计算模式串 p 的哈希值\n",
    "        hash_t = (hash_t * d + ord(T[i])) % q           # 计算文本串 T 中第一个子串的哈希值\n",
    "    \n",
    "    power = pow(d, m - 1) % q                           # power 用于移除字符哈希时\n",
    "    \n",
    "    for i in range(n - m + 1):\n",
    "        if hash_p == hash_t:                            # 检查模式串 p 的哈希值和子串的哈希值\n",
    "            match = True                                # 如果哈希值相等，验证模式串和子串每个字符是否完全相同（避免哈希冲突）\n",
    "            for j in range(m):\n",
    "                if T[i + j] != p[j]:\n",
    "                    match = False                       # 模式串和子串某个字符不相等，验证失败，跳出循环\n",
    "                    break\n",
    "            if match:                                   # 如果模式串和子串每个字符是否完全相同，返回匹配开始位置\n",
    "                return i\n",
    "        if i < n - m:                                   # 计算下一个相邻子串的哈希值\n",
    "            hash_t = (hash_t - power * ord(T[i])) % q   # 移除字符 T[i]\n",
    "            hash_t = (hash_t * d + ord(T[i + m])) % q   # 增加字符 T[i + m]\n",
    "            hash_t = (hash_t + q) % q                   # 确保 hash_t >= 0\n",
    "        \n",
    "    return -1\n"
   ]
  },
  {
   "cell_type": "markdown",
   "id": "d075bf2b-04c7-4fda-b309-b1a45305e13b",
   "metadata": {},
   "source": [
    "### KMP 算法：全称叫做 「Knuth Morris Pratt 算法」\n",
    "1. KMP 算法思想：对于给定文本串 T 与模式串 p，当发现文本串 T 的某个字符与模式串 p 不匹配的时候，可以利用匹配失败后的信息，尽量减少模式串与文本串的匹配次数，避免文本串位置的回退，以达到快速匹配的目的。"
   ]
  },
  {
   "cell_type": "code",
   "execution_count": null,
   "id": "69d7ce3f-ef77-4b28-8f2d-1fc5f4299fb4",
   "metadata": {},
   "outputs": [],
   "source": []
  }
 ],
 "metadata": {
  "kernelspec": {
   "display_name": "Python 3 (ipykernel)",
   "language": "python",
   "name": "python3"
  },
  "language_info": {
   "codemirror_mode": {
    "name": "ipython",
    "version": 3
   },
   "file_extension": ".py",
   "mimetype": "text/x-python",
   "name": "python",
   "nbconvert_exporter": "python",
   "pygments_lexer": "ipython3",
   "version": "3.12.4"
  }
 },
 "nbformat": 4,
 "nbformat_minor": 5
}
