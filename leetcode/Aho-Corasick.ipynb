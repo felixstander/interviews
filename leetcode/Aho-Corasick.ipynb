{
 "cells": [
  {
   "cell_type": "markdown",
   "id": "0afcd2d5-1ad0-4f6e-8c0d-e482869aba2a",
   "metadata": {},
   "source": [
    "### Aho-Corasick\n",
    "1. 构建Trie树： 将所有的模式串插入到一个Trie树中。Trie树是一种树状数据结构，每个节点表示一个字符，路径从根节点到叶子节点表示一个模式串。\n",
    "2. 添加失败指针： 为Trie树中的每个节点添加一个失败指针，该指针指向在当前节点失败时应该跳转的节点。这个过程使用广度优先搜索（BFS） 来实现。利用 KMP 算法思想，构造失配指针。使得当前字符失配时可以通过失配指针跳转到具有最长公共前后缀的字符位置上继续匹配。\n",
    "3. 匹配过程： 从文本的开头开始，沿着Trie树逐字符匹配。如果无法匹配当前字符，根据失败指针跳转到另一个节点，并继续匹配，直到匹配成功或者到达文本末尾。"
   ]
  },
  {
   "cell_type": "code",
   "execution_count": 3,
   "id": "eb9402ef-543d-4d49-bb8b-773a9bd04f16",
   "metadata": {},
   "outputs": [
    {
     "name": "stdout",
     "output_type": "stream",
     "text": [
      "{'patternString': 'ab', 'matchStartIndex': 0, 'matchEndIndex': 1}\n",
      "{'patternString': 'bc', 'matchStartIndex': 1, 'matchEndIndex': 2}\n",
      "{'patternString': 'ca', 'matchStartIndex': 3, 'matchEndIndex': 4}\n",
      "{'patternString': 'ccab', 'matchStartIndex': 2, 'matchEndIndex': 5}\n",
      "{'patternString': 'ab', 'matchStartIndex': 4, 'matchEndIndex': 5}\n"
     ]
    }
   ],
   "source": [
    "class TrieNode:\n",
    "    def __init__(self):\n",
    "        # 当前节点的子结点\n",
    "        self.children = {}\n",
    "        # 当前节点是否为结尾\n",
    "        self.is_end_of_word = False\n",
    "        # 当前节点查询失败后转到下一个节点\n",
    "        self.failure_link = None\n",
    "        # 当前节点的字符\n",
    "        self.char = \"\"\n",
    "        # 当前节点的字符叠加,用于记录叶子节点的对应字符串\n",
    "        self.sumChart = \"\"\n",
    "        # 叶子节点的单词\n",
    "        self.word = \"\"\n",
    "\n",
    "def build_trie(patterns):\n",
    "    root = TrieNode()\n",
    "    for pattern in patterns:\n",
    "        currentNode = root\n",
    "        for char in pattern:\n",
    "            # 如果这个字符并没有出现在当前节点的子结点中，那么就要创造一个这样的节点作为子结点\n",
    "            if char not in currentNode.children:\n",
    "                childNode = TrieNode()\n",
    "                # 赋值字符\n",
    "                childNode.char = char\n",
    "                # 子结点的累加字符为当前节点的累加字符并添加当前的字符\n",
    "                childNode.sumChart = currentNode.sumChart + char\n",
    "            # 当前子结点已经存在，直接赋值即可\n",
    "            else:\n",
    "                childNode = currentNode.children[char]\n",
    "            currentNode.children[char] = childNode\n",
    "            # 然后继续遍历子结点\n",
    "            currentNode = currentNode.children[char]\n",
    "        currentNode.word = currentNode.sumChart\n",
    "        currentNode.is_end_of_word = True\n",
    "    return root\n",
    "\n",
    "def add_failure_links(root):\n",
    "    queue = []\n",
    "    # 每个根节点下的节点一旦失败，就会返回到根节点重新查询\n",
    "    for child in root.children.values():\n",
    "        queue.append(child)\n",
    "        child.failure_link = root\n",
    "\n",
    "    # 层序遍历\n",
    "    while queue:\n",
    "        current_node = queue.pop(0)\n",
    "        # 遍历当前节点\n",
    "        for char, childNode in current_node.children.items():\n",
    "            # 将当前节点的子结点存入队列\n",
    "            queue.append(childNode)\n",
    "            # 拿出失败时的节点\n",
    "            failure_node = current_node.failure_link\n",
    "            '''\n",
    "            对于状态匹配失败的节点a，\n",
    "            如果其父节点的失败节点可以根据该节点a的跳转字符成功转移状态到另一节点b，那么就将失败节点a指向该节点b；\n",
    "            如果其父节点的失败节点不能根据该节点的跳转字符转移状态到另一节点，那么就将失败节点a将检查其父节点的父节点的失败节点是否满足上述条件；\n",
    "            依次递推，如果回溯到根节点还未找到，那就指向将失败节点指向根节点。\n",
    "            '''\n",
    "            while failure_node and char not in failure_node.children:\n",
    "                failure_node = failure_node.failure_link\n",
    "            \n",
    "            # 如果当前的failure_node存在并且其以char为值的子结点也存在\n",
    "            # 当前的childNode节点的失败指针就指向failure_node节点的失败指针指向的存有该char值的子结点\n",
    "            if failure_node and failure_node.children[char]:\n",
    "                childNode.failure_link = failure_node.children[char]\n",
    "                # 这里需要注意，如果当前的childNode节点的失败时指向的节点是叶节点，其实也意味着\n",
    "                # 查找到这个子结点的时候，已经匹配到了一个字串了\n",
    "                if childNode.failure_link.is_end_of_word:\n",
    "                    # 当childNode为非根节点的时候需要赋值word为其失败后指向节点的word\n",
    "                    if not childNode.is_end_of_word:\n",
    "                        childNode.is_end_of_word = True\n",
    "                        # 既然当前的节点表示已经匹配到了一个字串，那么相应的该节点应该也是有一个单词的\n",
    "                        childNode.word = childNode.failure_link.word\n",
    "            else:\n",
    "                childNode.failure_link = root\n",
    "\n",
    "def search(text, patterns):\n",
    "    root = build_trie(patterns)\n",
    "    add_failure_links(root)\n",
    "\n",
    "    current_node = root\n",
    "    matches = []\n",
    "\n",
    "    for i, char in enumerate(text):\n",
    "        # 如果当前的节点存在，且当前字符匹配失败，就去找失败节点\n",
    "        while current_node and char not in current_node.children:\n",
    "            current_node = current_node.failure_link\n",
    "\n",
    "        # 如果当前的节点为空，其实就意味着找到了根节点的失败节点了，\n",
    "        # 此时表明查询失败重新从根节点开始查询\n",
    "        if not current_node:\n",
    "            current_node = root\n",
    "            continue\n",
    "        \n",
    "        # 如果char存在于当前的节点的子结点中，说明成功匹配\n",
    "        # 递进去下一个节点\n",
    "        current_node = current_node.children[char]\n",
    "        # 如果此时匹配到的值已经是匹配关键词的末尾了，说明匹配中了一个字串\n",
    "        # 记录下来\n",
    "        if current_node.is_end_of_word:\n",
    "            matches.append((current_node.word, (i - len(current_node.word) + 1, i)))\n",
    "            if current_node.failure_link.is_end_of_word:\n",
    "                tempNode = current_node.failure_link\n",
    "                matches.append((tempNode.word, (i - len(tempNode.word) + 1, i)))\n",
    "    # 数据处理\n",
    "    data = list(set(matches))\n",
    "    result = []\n",
    "    for item in data:\n",
    "        tempObj = {\n",
    "            \"patternString\": item[0],\n",
    "            \"matchStartIndex\": item[1][0],\n",
    "            \"matchEndIndex\": item[1][1]\n",
    "        }\n",
    "        result.append(tempObj)\n",
    "    # 按matchEndIndex排序\n",
    "    sortedResult = sorted(result, key=lambda x: (x['matchEndIndex'], x['matchStartIndex']))\n",
    "    return sortedResult\n",
    "\n",
    "# Example\n",
    "text = \"abccab\"\n",
    "patterns = [\"ab\", \"bc\", \"ca\", \"ccab\"]\n",
    "result = search(text, patterns)\n",
    "for item in result:\n",
    "    print(item)\n"
   ]
  },
  {
   "cell_type": "code",
   "execution_count": 4,
   "id": "ce1bd470-d4c1-422f-aa28-0585925135ff",
   "metadata": {},
   "outputs": [],
   "source": [
    "patterns = [\"ab\", \"bc\", \"ca\", \"ccab\"]"
   ]
  },
  {
   "cell_type": "code",
   "execution_count": 5,
   "id": "32ce685e-59f8-4663-a933-21a25ecfe3d8",
   "metadata": {},
   "outputs": [],
   "source": [
    "root = build_trie(patterns)"
   ]
  },
  {
   "cell_type": "code",
   "execution_count": 7,
   "id": "fea761d5-0050-451e-b0d5-0c01751ab3ac",
   "metadata": {},
   "outputs": [
    {
     "data": {
      "text/plain": [
       "{'a': <__main__.TrieNode at 0x111508d70>,\n",
       " 'b': <__main__.TrieNode at 0x11150a420>,\n",
       " 'c': <__main__.TrieNode at 0x1115091c0>}"
      ]
     },
     "execution_count": 7,
     "metadata": {},
     "output_type": "execute_result"
    }
   ],
   "source": [
    "root.children"
   ]
  },
  {
   "cell_type": "code",
   "execution_count": null,
   "id": "e0cbc33c-4672-4e6f-93ef-eed52825ddcc",
   "metadata": {},
   "outputs": [],
   "source": []
  }
 ],
 "metadata": {
  "kernelspec": {
   "display_name": "Python 3 (ipykernel)",
   "language": "python",
   "name": "python3"
  },
  "language_info": {
   "codemirror_mode": {
    "name": "ipython",
    "version": 3
   },
   "file_extension": ".py",
   "mimetype": "text/x-python",
   "name": "python",
   "nbconvert_exporter": "python",
   "pygments_lexer": "ipython3",
   "version": "3.12.4"
  }
 },
 "nbformat": 4,
 "nbformat_minor": 5
}
